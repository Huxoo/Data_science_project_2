{
 "cells": [
  {
   "cell_type": "markdown",
   "id": "3958be77",
   "metadata": {},
   "source": [
    "#### Veri Kümesi Bilgileri:\n",
    "\n",
    "#### Ecotect'te simüle edilen 12 farklı bina şeklini kullanarak enerji analizi yapıyoruz. Binalar, diğer parametrelerin yanı sıra cam alanı, cam alanı dağılımı ve yönelim açısından farklılık gösterir. 768 yapı şekli elde etmek için çeşitli ayarları yukarıda belirtilen özelliklerin işlevleri olarak simüle ediyoruz. Veri seti, iki gerçek değerli yanıtı tahmin etmeyi amaçlayan 768 örnek ve 8 özellik içerir. Yanıt en yakın tam sayıya yuvarlanırsa, çok sınıflı bir sınıflandırma problemi olarak da kullanılabilir.\n",
    "\n",
    "#### Özellik Bilgileri:\n",
    "\n",
    "#### Veri kümesi sekiz öznitelik (veya X1…X8 ile gösterilen özellikler) ve iki yanıt (veya y1 ve y2 ile gösterilen sonuçlar) içerir. Amaç, iki yanıtın her birini tahmin etmek için sekiz özelliği kullanmaktır.\n",
    "\n",
    "#### özellikle:\n",
    "#### X1 Göreceli Kompaktlık\n",
    "#### X2 Yüzey Alanı\n",
    "#### X3 Duvar Alanı\n",
    "#### X4 Çatı Alanı\n",
    "#### X5 Genel Yükseklik\n",
    "#### X6 Oryantasyonu\n",
    "#### X7 Cam Alanı\n",
    "#### X8 Cam Alan Dağılımı\n",
    "#### y1 Isıtma Yükü\n",
    "#### y2 Soğutma Yükü"
   ]
  },
  {
   "cell_type": "code",
   "execution_count": 42,
   "id": "c4d3df40",
   "metadata": {},
   "outputs": [
    {
     "data": {
      "text/html": [
       "<div>\n",
       "<style scoped>\n",
       "    .dataframe tbody tr th:only-of-type {\n",
       "        vertical-align: middle;\n",
       "    }\n",
       "\n",
       "    .dataframe tbody tr th {\n",
       "        vertical-align: top;\n",
       "    }\n",
       "\n",
       "    .dataframe thead th {\n",
       "        text-align: right;\n",
       "    }\n",
       "</style>\n",
       "<table border=\"1\" class=\"dataframe\">\n",
       "  <thead>\n",
       "    <tr style=\"text-align: right;\">\n",
       "      <th></th>\n",
       "      <th>X1</th>\n",
       "      <th>X2</th>\n",
       "      <th>X3</th>\n",
       "      <th>X4</th>\n",
       "      <th>X5</th>\n",
       "      <th>X6</th>\n",
       "      <th>X7</th>\n",
       "      <th>X8</th>\n",
       "      <th>Y1</th>\n",
       "      <th>Y2</th>\n",
       "    </tr>\n",
       "  </thead>\n",
       "  <tbody>\n",
       "    <tr>\n",
       "      <th>0</th>\n",
       "      <td>0.98</td>\n",
       "      <td>514.5</td>\n",
       "      <td>294.0</td>\n",
       "      <td>110.25</td>\n",
       "      <td>7.0</td>\n",
       "      <td>2</td>\n",
       "      <td>0.0</td>\n",
       "      <td>0</td>\n",
       "      <td>15.55</td>\n",
       "      <td>21.33</td>\n",
       "    </tr>\n",
       "    <tr>\n",
       "      <th>1</th>\n",
       "      <td>0.98</td>\n",
       "      <td>514.5</td>\n",
       "      <td>294.0</td>\n",
       "      <td>110.25</td>\n",
       "      <td>7.0</td>\n",
       "      <td>3</td>\n",
       "      <td>0.0</td>\n",
       "      <td>0</td>\n",
       "      <td>15.55</td>\n",
       "      <td>21.33</td>\n",
       "    </tr>\n",
       "    <tr>\n",
       "      <th>2</th>\n",
       "      <td>0.98</td>\n",
       "      <td>514.5</td>\n",
       "      <td>294.0</td>\n",
       "      <td>110.25</td>\n",
       "      <td>7.0</td>\n",
       "      <td>4</td>\n",
       "      <td>0.0</td>\n",
       "      <td>0</td>\n",
       "      <td>15.55</td>\n",
       "      <td>21.33</td>\n",
       "    </tr>\n",
       "    <tr>\n",
       "      <th>3</th>\n",
       "      <td>0.98</td>\n",
       "      <td>514.5</td>\n",
       "      <td>294.0</td>\n",
       "      <td>110.25</td>\n",
       "      <td>7.0</td>\n",
       "      <td>5</td>\n",
       "      <td>0.0</td>\n",
       "      <td>0</td>\n",
       "      <td>15.55</td>\n",
       "      <td>21.33</td>\n",
       "    </tr>\n",
       "    <tr>\n",
       "      <th>4</th>\n",
       "      <td>0.90</td>\n",
       "      <td>563.5</td>\n",
       "      <td>318.5</td>\n",
       "      <td>122.50</td>\n",
       "      <td>7.0</td>\n",
       "      <td>2</td>\n",
       "      <td>0.0</td>\n",
       "      <td>0</td>\n",
       "      <td>20.84</td>\n",
       "      <td>28.28</td>\n",
       "    </tr>\n",
       "  </tbody>\n",
       "</table>\n",
       "</div>"
      ],
      "text/plain": [
       "     X1     X2     X3      X4   X5  X6   X7  X8     Y1     Y2\n",
       "0  0.98  514.5  294.0  110.25  7.0   2  0.0   0  15.55  21.33\n",
       "1  0.98  514.5  294.0  110.25  7.0   3  0.0   0  15.55  21.33\n",
       "2  0.98  514.5  294.0  110.25  7.0   4  0.0   0  15.55  21.33\n",
       "3  0.98  514.5  294.0  110.25  7.0   5  0.0   0  15.55  21.33\n",
       "4  0.90  563.5  318.5  122.50  7.0   2  0.0   0  20.84  28.28"
      ]
     },
     "execution_count": 42,
     "metadata": {},
     "output_type": "execute_result"
    }
   ],
   "source": [
    "import pandas as pd\n",
    "import numpy as np\n",
    "import seaborn as sns\n",
    "import matplotlib.pyplot as plt\n",
    "\n",
    "energy_efficiency = pd.read_csv(\"ENB2012_data.csv\")\n",
    "df = energy_efficiency.copy()\n",
    "df.head()"
   ]
  },
  {
   "cell_type": "code",
   "execution_count": 43,
   "id": "b6eb3f8a",
   "metadata": {},
   "outputs": [],
   "source": [
    "df.columns = [\"Relative Compactness\",\"Surface Area\",\"Wall Area\",\n",
    "                \"Roof Area\", \"Overall Height\",\"Orientation\",\"Glazing Area\",\n",
    "                \"Glazing Area Distribution\", \"Heating Load\", \"Cooling Load\"]"
   ]
  },
  {
   "cell_type": "markdown",
   "id": "af3ceb68",
   "metadata": {},
   "source": [
    "#### Burada değişkenleri tekrar isimlendirme yaptım X ve Y gibi sütun adları proje üzerinden ilerlerken pek destekleyici olmayacaktır. Dolayısıyla veri setindeki isimlendirmeye tabii tuttum."
   ]
  },
  {
   "cell_type": "markdown",
   "id": "67e7bdb9",
   "metadata": {},
   "source": [
    "#### Temel kütüphanelerimizi projemize dahil ediyoruz ve kaggle'dan yüklediğimiz [veri setimizi](https://www.kaggle.com/datasets/elikplim/eergy-efficiency-dataset) okuyoruz. Ardından ilk gözlem için head ile verileri getiriyoruz. "
   ]
  },
  {
   "cell_type": "code",
   "execution_count": 3,
   "id": "7ee5d7a4",
   "metadata": {},
   "outputs": [
    {
     "name": "stdout",
     "output_type": "stream",
     "text": [
      " Veri setinin boyut sayısı: 2\n",
      " Veri setinin boyut bilgisi: (768, 10)\n",
      " Veri setindeki toplam eleman sayısı: 7680\n",
      "\n"
     ]
    }
   ],
   "source": [
    "print(f\" Veri setinin boyut sayısı: {df.ndim}\\n\",\n",
    "     f\"Veri setinin boyut bilgisi: {df.shape}\\n\",\n",
    "     f\"Veri setindeki toplam eleman sayısı: {df.size}\\n\")"
   ]
  },
  {
   "cell_type": "markdown",
   "id": "3f3e333f",
   "metadata": {},
   "source": [
    "#### Stabil olarak her veri setine yaptığım bir temel bilgi çekme yapısını uyguluyorum. İşte boyut sayısı, bilgisi ve eleman sayısı vs. diye."
   ]
  },
  {
   "cell_type": "code",
   "execution_count": 4,
   "id": "44aa76a5",
   "metadata": {},
   "outputs": [
    {
     "name": "stdout",
     "output_type": "stream",
     "text": [
      "<class 'pandas.core.frame.DataFrame'>\n",
      "RangeIndex: 768 entries, 0 to 767\n",
      "Data columns (total 10 columns):\n",
      " #   Column                     Non-Null Count  Dtype  \n",
      "---  ------                     --------------  -----  \n",
      " 0   Relative Compactness       768 non-null    float64\n",
      " 1   Surface Area               768 non-null    float64\n",
      " 2   Wall Area                  768 non-null    float64\n",
      " 3   Roof Area                  768 non-null    float64\n",
      " 4   Overall Height             768 non-null    float64\n",
      " 5   Orientation                768 non-null    int64  \n",
      " 6   Glazing Area               768 non-null    float64\n",
      " 7   Glazing Area Distribution  768 non-null    int64  \n",
      " 8   Heating Load               768 non-null    float64\n",
      " 9   Cooling Load               768 non-null    float64\n",
      "dtypes: float64(8), int64(2)\n",
      "memory usage: 60.1 KB\n"
     ]
    }
   ],
   "source": [
    "df.info()"
   ]
  },
  {
   "cell_type": "markdown",
   "id": "7325dcaa",
   "metadata": {},
   "source": [
    "#### Ardından veri setinin daha detaylı olacak şekilde içine girmek için 'info()' fonksiyonunu kullanıyoruz. Bu bize sütunları, eleman dağılımlarını ve veri tiplerini veriyor. Şöyle baktığım zaman null değer olmadığı aşikar. Fakat aykırı değerlerin olabileceği unutulmamalı. Bunun dışında veri tipi olarak sadece numerical değerler mevcut. Bir kategorisel değer söz konusu değil. Bu da dönüşüm yapılmayacağını gösterir..."
   ]
  },
  {
   "cell_type": "code",
   "execution_count": 5,
   "id": "8c815565",
   "metadata": {},
   "outputs": [
    {
     "data": {
      "text/html": [
       "<div>\n",
       "<style scoped>\n",
       "    .dataframe tbody tr th:only-of-type {\n",
       "        vertical-align: middle;\n",
       "    }\n",
       "\n",
       "    .dataframe tbody tr th {\n",
       "        vertical-align: top;\n",
       "    }\n",
       "\n",
       "    .dataframe thead th {\n",
       "        text-align: right;\n",
       "    }\n",
       "</style>\n",
       "<table border=\"1\" class=\"dataframe\">\n",
       "  <thead>\n",
       "    <tr style=\"text-align: right;\">\n",
       "      <th></th>\n",
       "      <th>count</th>\n",
       "      <th>mean</th>\n",
       "      <th>std</th>\n",
       "      <th>min</th>\n",
       "      <th>25%</th>\n",
       "      <th>50%</th>\n",
       "      <th>75%</th>\n",
       "      <th>max</th>\n",
       "    </tr>\n",
       "  </thead>\n",
       "  <tbody>\n",
       "    <tr>\n",
       "      <th>Relative Compactness</th>\n",
       "      <td>768.0</td>\n",
       "      <td>0.764167</td>\n",
       "      <td>0.105777</td>\n",
       "      <td>0.62</td>\n",
       "      <td>0.6825</td>\n",
       "      <td>0.75</td>\n",
       "      <td>0.8300</td>\n",
       "      <td>0.98</td>\n",
       "    </tr>\n",
       "    <tr>\n",
       "      <th>Surface Area</th>\n",
       "      <td>768.0</td>\n",
       "      <td>671.708333</td>\n",
       "      <td>88.086116</td>\n",
       "      <td>514.50</td>\n",
       "      <td>606.3750</td>\n",
       "      <td>673.75</td>\n",
       "      <td>741.1250</td>\n",
       "      <td>808.50</td>\n",
       "    </tr>\n",
       "    <tr>\n",
       "      <th>Wall Area</th>\n",
       "      <td>768.0</td>\n",
       "      <td>318.500000</td>\n",
       "      <td>43.626481</td>\n",
       "      <td>245.00</td>\n",
       "      <td>294.0000</td>\n",
       "      <td>318.50</td>\n",
       "      <td>343.0000</td>\n",
       "      <td>416.50</td>\n",
       "    </tr>\n",
       "    <tr>\n",
       "      <th>Roof Area</th>\n",
       "      <td>768.0</td>\n",
       "      <td>176.604167</td>\n",
       "      <td>45.165950</td>\n",
       "      <td>110.25</td>\n",
       "      <td>140.8750</td>\n",
       "      <td>183.75</td>\n",
       "      <td>220.5000</td>\n",
       "      <td>220.50</td>\n",
       "    </tr>\n",
       "    <tr>\n",
       "      <th>Overall Height</th>\n",
       "      <td>768.0</td>\n",
       "      <td>5.250000</td>\n",
       "      <td>1.751140</td>\n",
       "      <td>3.50</td>\n",
       "      <td>3.5000</td>\n",
       "      <td>5.25</td>\n",
       "      <td>7.0000</td>\n",
       "      <td>7.00</td>\n",
       "    </tr>\n",
       "    <tr>\n",
       "      <th>Orientation</th>\n",
       "      <td>768.0</td>\n",
       "      <td>3.500000</td>\n",
       "      <td>1.118763</td>\n",
       "      <td>2.00</td>\n",
       "      <td>2.7500</td>\n",
       "      <td>3.50</td>\n",
       "      <td>4.2500</td>\n",
       "      <td>5.00</td>\n",
       "    </tr>\n",
       "    <tr>\n",
       "      <th>Glazing Area</th>\n",
       "      <td>768.0</td>\n",
       "      <td>0.234375</td>\n",
       "      <td>0.133221</td>\n",
       "      <td>0.00</td>\n",
       "      <td>0.1000</td>\n",
       "      <td>0.25</td>\n",
       "      <td>0.4000</td>\n",
       "      <td>0.40</td>\n",
       "    </tr>\n",
       "    <tr>\n",
       "      <th>Glazing Area Distribution</th>\n",
       "      <td>768.0</td>\n",
       "      <td>2.812500</td>\n",
       "      <td>1.550960</td>\n",
       "      <td>0.00</td>\n",
       "      <td>1.7500</td>\n",
       "      <td>3.00</td>\n",
       "      <td>4.0000</td>\n",
       "      <td>5.00</td>\n",
       "    </tr>\n",
       "    <tr>\n",
       "      <th>Heating Load</th>\n",
       "      <td>768.0</td>\n",
       "      <td>22.307201</td>\n",
       "      <td>10.090196</td>\n",
       "      <td>6.01</td>\n",
       "      <td>12.9925</td>\n",
       "      <td>18.95</td>\n",
       "      <td>31.6675</td>\n",
       "      <td>43.10</td>\n",
       "    </tr>\n",
       "    <tr>\n",
       "      <th>Cooling Load</th>\n",
       "      <td>768.0</td>\n",
       "      <td>24.587760</td>\n",
       "      <td>9.513306</td>\n",
       "      <td>10.90</td>\n",
       "      <td>15.6200</td>\n",
       "      <td>22.08</td>\n",
       "      <td>33.1325</td>\n",
       "      <td>48.03</td>\n",
       "    </tr>\n",
       "  </tbody>\n",
       "</table>\n",
       "</div>"
      ],
      "text/plain": [
       "                           count        mean        std     min       25%  \\\n",
       "Relative Compactness       768.0    0.764167   0.105777    0.62    0.6825   \n",
       "Surface Area               768.0  671.708333  88.086116  514.50  606.3750   \n",
       "Wall Area                  768.0  318.500000  43.626481  245.00  294.0000   \n",
       "Roof Area                  768.0  176.604167  45.165950  110.25  140.8750   \n",
       "Overall Height             768.0    5.250000   1.751140    3.50    3.5000   \n",
       "Orientation                768.0    3.500000   1.118763    2.00    2.7500   \n",
       "Glazing Area               768.0    0.234375   0.133221    0.00    0.1000   \n",
       "Glazing Area Distribution  768.0    2.812500   1.550960    0.00    1.7500   \n",
       "Heating Load               768.0   22.307201  10.090196    6.01   12.9925   \n",
       "Cooling Load               768.0   24.587760   9.513306   10.90   15.6200   \n",
       "\n",
       "                              50%       75%     max  \n",
       "Relative Compactness         0.75    0.8300    0.98  \n",
       "Surface Area               673.75  741.1250  808.50  \n",
       "Wall Area                  318.50  343.0000  416.50  \n",
       "Roof Area                  183.75  220.5000  220.50  \n",
       "Overall Height               5.25    7.0000    7.00  \n",
       "Orientation                  3.50    4.2500    5.00  \n",
       "Glazing Area                 0.25    0.4000    0.40  \n",
       "Glazing Area Distribution    3.00    4.0000    5.00  \n",
       "Heating Load                18.95   31.6675   43.10  \n",
       "Cooling Load                22.08   33.1325   48.03  "
      ]
     },
     "execution_count": 5,
     "metadata": {},
     "output_type": "execute_result"
    }
   ],
   "source": [
    "df.describe().T"
   ]
  },
  {
   "cell_type": "markdown",
   "id": "a0b9b920",
   "metadata": {},
   "source": [
    "#### Temel bazda işlemleri bitirdikten sonra işin daha çok istatistiksel yapısına hakimiyet kurmaya çalışıyorum. Bu yüzden betimsel istatistik (describe().T) uygulayarak veriye dair tüm matematiksel değerlere göz atabiliyorum. Değerler içlerinde bir aykırılık yaşamıyor gibi gözüküyor. Min ve max değerler birbirine yakın, ortalamalar 'amanın' dedirtmiyor. Dolayısıyla güzel bir veri setine denk gelmiş bulunmaktayız. Fakat yine de hem null değerleri gözlemlemek hem de aykırı değerleri gözlemlemek için bir bakış atacağız..."
   ]
  },
  {
   "cell_type": "code",
   "execution_count": 6,
   "id": "13ba6141",
   "metadata": {},
   "outputs": [
    {
     "data": {
      "text/plain": [
       "Relative Compactness         0\n",
       "Surface Area                 0\n",
       "Wall Area                    0\n",
       "Roof Area                    0\n",
       "Overall Height               0\n",
       "Orientation                  0\n",
       "Glazing Area                 0\n",
       "Glazing Area Distribution    0\n",
       "Heating Load                 0\n",
       "Cooling Load                 0\n",
       "dtype: int64"
      ]
     },
     "execution_count": 6,
     "metadata": {},
     "output_type": "execute_result"
    }
   ],
   "source": [
    "df.isnull().sum()"
   ]
  },
  {
   "cell_type": "markdown",
   "id": "5fd7c8e1",
   "metadata": {},
   "source": [
    "#### Görüldüğü üzere null değer mevcut değil. "
   ]
  },
  {
   "cell_type": "code",
   "execution_count": 7,
   "id": "e06020a1",
   "metadata": {},
   "outputs": [
    {
     "name": "stdout",
     "output_type": "stream",
     "text": [
      "Relative Compactness değerleri:\n",
      "0.98    64\n",
      "0.90    64\n",
      "0.86    64\n",
      "0.82    64\n",
      "0.79    64\n",
      "0.76    64\n",
      "0.74    64\n",
      "0.71    64\n",
      "0.69    64\n",
      "0.66    64\n",
      "0.64    64\n",
      "0.62    64\n",
      "Name: Relative Compactness, dtype: int64\n",
      "--------------------\n",
      "Surface Area değerleri:\n",
      "514.5    64\n",
      "563.5    64\n",
      "588.0    64\n",
      "612.5    64\n",
      "637.0    64\n",
      "661.5    64\n",
      "686.0    64\n",
      "710.5    64\n",
      "735.0    64\n",
      "759.5    64\n",
      "784.0    64\n",
      "808.5    64\n",
      "Name: Surface Area, dtype: int64\n",
      "--------------------\n",
      "Wall Area değerleri:\n",
      "294.0    192\n",
      "318.5    192\n",
      "343.0    128\n",
      "416.5     64\n",
      "245.0     64\n",
      "269.5     64\n",
      "367.5     64\n",
      "Name: Wall Area, dtype: int64\n",
      "--------------------\n",
      "Roof Area değerleri:\n",
      "220.50    384\n",
      "147.00    192\n",
      "122.50    128\n",
      "110.25     64\n",
      "Name: Roof Area, dtype: int64\n",
      "--------------------\n",
      "Overall Height değerleri:\n",
      "7.0    384\n",
      "3.5    384\n",
      "Name: Overall Height, dtype: int64\n",
      "--------------------\n",
      "Orientation değerleri:\n",
      "2    192\n",
      "3    192\n",
      "4    192\n",
      "5    192\n",
      "Name: Orientation, dtype: int64\n",
      "--------------------\n",
      "Glazing Area değerleri:\n",
      "0.10    240\n",
      "0.25    240\n",
      "0.40    240\n",
      "0.00     48\n",
      "Name: Glazing Area, dtype: int64\n",
      "--------------------\n",
      "Glazing Area Distribution değerleri:\n",
      "1    144\n",
      "2    144\n",
      "3    144\n",
      "4    144\n",
      "5    144\n",
      "0     48\n",
      "Name: Glazing Area Distribution, dtype: int64\n",
      "--------------------\n",
      "Heating Load değerleri:\n",
      "15.16    6\n",
      "13.00    5\n",
      "15.55    4\n",
      "10.68    4\n",
      "28.15    4\n",
      "        ..\n",
      "10.47    1\n",
      "33.21    1\n",
      "36.77    1\n",
      "36.71    1\n",
      "16.64    1\n",
      "Name: Heating Load, Length: 586, dtype: int64\n",
      "--------------------\n",
      "Cooling Load değerleri:\n",
      "21.33    4\n",
      "29.79    4\n",
      "14.27    4\n",
      "17.20    4\n",
      "14.28    4\n",
      "        ..\n",
      "14.65    1\n",
      "14.54    1\n",
      "14.39    1\n",
      "14.46    1\n",
      "17.11    1\n",
      "Name: Cooling Load, Length: 636, dtype: int64\n",
      "--------------------\n"
     ]
    }
   ],
   "source": [
    "print(f\"Relative Compactness değerleri:\\n{df['Relative Compactness'].value_counts()}\")\n",
    "print(\"-\" * 20)\n",
    "print(f\"Surface Area değerleri:\\n{df['Surface Area'].value_counts()}\")\n",
    "print(\"-\" * 20)\n",
    "print(f\"Wall Area değerleri:\\n{df['Wall Area'].value_counts()}\")\n",
    "print(\"-\" * 20)\n",
    "print(f\"Roof Area değerleri:\\n{df['Roof Area'].value_counts()}\")\n",
    "print(\"-\" * 20)\n",
    "print(f\"Overall Height değerleri:\\n{df['Overall Height'].value_counts()}\")\n",
    "print(\"-\" * 20)\n",
    "print(f\"Orientation değerleri:\\n{df['Orientation'].value_counts()}\")\n",
    "print(\"-\" * 20)\n",
    "print(f\"Glazing Area değerleri:\\n{df['Glazing Area'].value_counts()}\")\n",
    "print(\"-\" * 20)\n",
    "print(f\"Glazing Area Distribution değerleri:\\n{df['Glazing Area Distribution'].value_counts()}\")\n",
    "print(\"-\" * 20)\n",
    "print(f\"Heating Load değerleri:\\n{df['Heating Load'].value_counts()}\")\n",
    "print(\"-\" * 20)\n",
    "print(f\"Cooling Load değerleri:\\n{df['Cooling Load'].value_counts()}\")\n",
    "print(\"-\" * 20)"
   ]
  },
  {
   "cell_type": "markdown",
   "id": "e38743b9",
   "metadata": {},
   "source": [
    "#### Aykrı değerleri gözlemlemek için yaptığımız bu printleme işlemindeyse sadece 'value_counts' kullandık. Yani her bir değişkenin içindeki verileri saydırdık ve değerler arası dengeye göz attık. Baktığımız zaman adam akıllı bir aykırılık söz konusu değil. Wall Area ve Roof Area değerlerinde bir miktar dengesizlik söz konusu fakat dudak uçuklatacak kıvamda değiller. Ancak aykırı değerlere yine de ileride uygulama yapacağım."
   ]
  },
  {
   "cell_type": "code",
   "execution_count": 8,
   "id": "1e23e9e3",
   "metadata": {},
   "outputs": [],
   "source": [
    "y_df = df[[\"Heating Load\", \"Cooling Load\"]]\n",
    "df.drop([\"Heating Load\", \"Cooling Load\"], axis = 1, inplace = True)\n",
    "x_df = df"
   ]
  },
  {
   "cell_type": "code",
   "execution_count": 9,
   "id": "0270a5e3",
   "metadata": {},
   "outputs": [
    {
     "data": {
      "text/html": [
       "<div>\n",
       "<style scoped>\n",
       "    .dataframe tbody tr th:only-of-type {\n",
       "        vertical-align: middle;\n",
       "    }\n",
       "\n",
       "    .dataframe tbody tr th {\n",
       "        vertical-align: top;\n",
       "    }\n",
       "\n",
       "    .dataframe thead th {\n",
       "        text-align: right;\n",
       "    }\n",
       "</style>\n",
       "<table border=\"1\" class=\"dataframe\">\n",
       "  <thead>\n",
       "    <tr style=\"text-align: right;\">\n",
       "      <th></th>\n",
       "      <th>Heating Load</th>\n",
       "      <th>Cooling Load</th>\n",
       "    </tr>\n",
       "  </thead>\n",
       "  <tbody>\n",
       "    <tr>\n",
       "      <th>0</th>\n",
       "      <td>15.55</td>\n",
       "      <td>21.33</td>\n",
       "    </tr>\n",
       "    <tr>\n",
       "      <th>1</th>\n",
       "      <td>15.55</td>\n",
       "      <td>21.33</td>\n",
       "    </tr>\n",
       "    <tr>\n",
       "      <th>2</th>\n",
       "      <td>15.55</td>\n",
       "      <td>21.33</td>\n",
       "    </tr>\n",
       "    <tr>\n",
       "      <th>3</th>\n",
       "      <td>15.55</td>\n",
       "      <td>21.33</td>\n",
       "    </tr>\n",
       "    <tr>\n",
       "      <th>4</th>\n",
       "      <td>20.84</td>\n",
       "      <td>28.28</td>\n",
       "    </tr>\n",
       "  </tbody>\n",
       "</table>\n",
       "</div>"
      ],
      "text/plain": [
       "   Heating Load  Cooling Load\n",
       "0         15.55         21.33\n",
       "1         15.55         21.33\n",
       "2         15.55         21.33\n",
       "3         15.55         21.33\n",
       "4         20.84         28.28"
      ]
     },
     "execution_count": 9,
     "metadata": {},
     "output_type": "execute_result"
    }
   ],
   "source": [
    "y_df.head()"
   ]
  },
  {
   "cell_type": "code",
   "execution_count": 10,
   "id": "784e57c2",
   "metadata": {},
   "outputs": [
    {
     "data": {
      "text/html": [
       "<div>\n",
       "<style scoped>\n",
       "    .dataframe tbody tr th:only-of-type {\n",
       "        vertical-align: middle;\n",
       "    }\n",
       "\n",
       "    .dataframe tbody tr th {\n",
       "        vertical-align: top;\n",
       "    }\n",
       "\n",
       "    .dataframe thead th {\n",
       "        text-align: right;\n",
       "    }\n",
       "</style>\n",
       "<table border=\"1\" class=\"dataframe\">\n",
       "  <thead>\n",
       "    <tr style=\"text-align: right;\">\n",
       "      <th></th>\n",
       "      <th>Relative Compactness</th>\n",
       "      <th>Surface Area</th>\n",
       "      <th>Wall Area</th>\n",
       "      <th>Roof Area</th>\n",
       "      <th>Overall Height</th>\n",
       "      <th>Orientation</th>\n",
       "      <th>Glazing Area</th>\n",
       "      <th>Glazing Area Distribution</th>\n",
       "    </tr>\n",
       "  </thead>\n",
       "  <tbody>\n",
       "    <tr>\n",
       "      <th>0</th>\n",
       "      <td>0.98</td>\n",
       "      <td>514.5</td>\n",
       "      <td>294.0</td>\n",
       "      <td>110.25</td>\n",
       "      <td>7.0</td>\n",
       "      <td>2</td>\n",
       "      <td>0.0</td>\n",
       "      <td>0</td>\n",
       "    </tr>\n",
       "    <tr>\n",
       "      <th>1</th>\n",
       "      <td>0.98</td>\n",
       "      <td>514.5</td>\n",
       "      <td>294.0</td>\n",
       "      <td>110.25</td>\n",
       "      <td>7.0</td>\n",
       "      <td>3</td>\n",
       "      <td>0.0</td>\n",
       "      <td>0</td>\n",
       "    </tr>\n",
       "    <tr>\n",
       "      <th>2</th>\n",
       "      <td>0.98</td>\n",
       "      <td>514.5</td>\n",
       "      <td>294.0</td>\n",
       "      <td>110.25</td>\n",
       "      <td>7.0</td>\n",
       "      <td>4</td>\n",
       "      <td>0.0</td>\n",
       "      <td>0</td>\n",
       "    </tr>\n",
       "    <tr>\n",
       "      <th>3</th>\n",
       "      <td>0.98</td>\n",
       "      <td>514.5</td>\n",
       "      <td>294.0</td>\n",
       "      <td>110.25</td>\n",
       "      <td>7.0</td>\n",
       "      <td>5</td>\n",
       "      <td>0.0</td>\n",
       "      <td>0</td>\n",
       "    </tr>\n",
       "    <tr>\n",
       "      <th>4</th>\n",
       "      <td>0.90</td>\n",
       "      <td>563.5</td>\n",
       "      <td>318.5</td>\n",
       "      <td>122.50</td>\n",
       "      <td>7.0</td>\n",
       "      <td>2</td>\n",
       "      <td>0.0</td>\n",
       "      <td>0</td>\n",
       "    </tr>\n",
       "  </tbody>\n",
       "</table>\n",
       "</div>"
      ],
      "text/plain": [
       "   Relative Compactness  Surface Area  Wall Area  Roof Area  Overall Height  \\\n",
       "0                  0.98         514.5      294.0     110.25             7.0   \n",
       "1                  0.98         514.5      294.0     110.25             7.0   \n",
       "2                  0.98         514.5      294.0     110.25             7.0   \n",
       "3                  0.98         514.5      294.0     110.25             7.0   \n",
       "4                  0.90         563.5      318.5     122.50             7.0   \n",
       "\n",
       "   Orientation  Glazing Area  Glazing Area Distribution  \n",
       "0            2           0.0                          0  \n",
       "1            3           0.0                          0  \n",
       "2            4           0.0                          0  \n",
       "3            5           0.0                          0  \n",
       "4            2           0.0                          0  "
      ]
     },
     "execution_count": 10,
     "metadata": {},
     "output_type": "execute_result"
    }
   ],
   "source": [
    "x_df.head()"
   ]
  },
  {
   "cell_type": "markdown",
   "id": "e4e63213",
   "metadata": {},
   "source": [
    "#### Evet burada temel olarak X ve Y değerlerini birbirinden ayırdım. Üzerlerinde daha iyi mantıksal işlemler yapabilmek için. X değerlerimiz bağımsız değişkenlerimiz olurken Y değişkenleri de bağımlı değişkenlerimiz olsun. Makine modellemesi yaparken işimize yarayacak. Veri seti hikayesinden de gözlemlediğimiz kadarıyla Y değerleri yanıtları oluşturuyor ve X değerleri ile de Y değerleri için tahmin gerçekleştirilecek..."
   ]
  },
  {
   "cell_type": "code",
   "execution_count": 11,
   "id": "1afad395",
   "metadata": {},
   "outputs": [
    {
     "data": {
      "text/html": [
       "<div>\n",
       "<style scoped>\n",
       "    .dataframe tbody tr th:only-of-type {\n",
       "        vertical-align: middle;\n",
       "    }\n",
       "\n",
       "    .dataframe tbody tr th {\n",
       "        vertical-align: top;\n",
       "    }\n",
       "\n",
       "    .dataframe thead th {\n",
       "        text-align: right;\n",
       "    }\n",
       "</style>\n",
       "<table border=\"1\" class=\"dataframe\">\n",
       "  <thead>\n",
       "    <tr style=\"text-align: right;\">\n",
       "      <th></th>\n",
       "      <th>count</th>\n",
       "      <th>mean</th>\n",
       "      <th>std</th>\n",
       "      <th>min</th>\n",
       "      <th>25%</th>\n",
       "      <th>50%</th>\n",
       "      <th>75%</th>\n",
       "      <th>max</th>\n",
       "    </tr>\n",
       "    <tr>\n",
       "      <th>Relative Compactness</th>\n",
       "      <th></th>\n",
       "      <th></th>\n",
       "      <th></th>\n",
       "      <th></th>\n",
       "      <th></th>\n",
       "      <th></th>\n",
       "      <th></th>\n",
       "      <th></th>\n",
       "    </tr>\n",
       "  </thead>\n",
       "  <tbody>\n",
       "    <tr>\n",
       "      <th>0.62</th>\n",
       "      <td>64.0</td>\n",
       "      <td>808.5</td>\n",
       "      <td>0.0</td>\n",
       "      <td>808.5</td>\n",
       "      <td>808.5</td>\n",
       "      <td>808.5</td>\n",
       "      <td>808.5</td>\n",
       "      <td>808.5</td>\n",
       "    </tr>\n",
       "    <tr>\n",
       "      <th>0.64</th>\n",
       "      <td>64.0</td>\n",
       "      <td>784.0</td>\n",
       "      <td>0.0</td>\n",
       "      <td>784.0</td>\n",
       "      <td>784.0</td>\n",
       "      <td>784.0</td>\n",
       "      <td>784.0</td>\n",
       "      <td>784.0</td>\n",
       "    </tr>\n",
       "    <tr>\n",
       "      <th>0.66</th>\n",
       "      <td>64.0</td>\n",
       "      <td>759.5</td>\n",
       "      <td>0.0</td>\n",
       "      <td>759.5</td>\n",
       "      <td>759.5</td>\n",
       "      <td>759.5</td>\n",
       "      <td>759.5</td>\n",
       "      <td>759.5</td>\n",
       "    </tr>\n",
       "    <tr>\n",
       "      <th>0.69</th>\n",
       "      <td>64.0</td>\n",
       "      <td>735.0</td>\n",
       "      <td>0.0</td>\n",
       "      <td>735.0</td>\n",
       "      <td>735.0</td>\n",
       "      <td>735.0</td>\n",
       "      <td>735.0</td>\n",
       "      <td>735.0</td>\n",
       "    </tr>\n",
       "    <tr>\n",
       "      <th>0.71</th>\n",
       "      <td>64.0</td>\n",
       "      <td>710.5</td>\n",
       "      <td>0.0</td>\n",
       "      <td>710.5</td>\n",
       "      <td>710.5</td>\n",
       "      <td>710.5</td>\n",
       "      <td>710.5</td>\n",
       "      <td>710.5</td>\n",
       "    </tr>\n",
       "    <tr>\n",
       "      <th>0.74</th>\n",
       "      <td>64.0</td>\n",
       "      <td>686.0</td>\n",
       "      <td>0.0</td>\n",
       "      <td>686.0</td>\n",
       "      <td>686.0</td>\n",
       "      <td>686.0</td>\n",
       "      <td>686.0</td>\n",
       "      <td>686.0</td>\n",
       "    </tr>\n",
       "    <tr>\n",
       "      <th>0.76</th>\n",
       "      <td>64.0</td>\n",
       "      <td>661.5</td>\n",
       "      <td>0.0</td>\n",
       "      <td>661.5</td>\n",
       "      <td>661.5</td>\n",
       "      <td>661.5</td>\n",
       "      <td>661.5</td>\n",
       "      <td>661.5</td>\n",
       "    </tr>\n",
       "    <tr>\n",
       "      <th>0.79</th>\n",
       "      <td>64.0</td>\n",
       "      <td>637.0</td>\n",
       "      <td>0.0</td>\n",
       "      <td>637.0</td>\n",
       "      <td>637.0</td>\n",
       "      <td>637.0</td>\n",
       "      <td>637.0</td>\n",
       "      <td>637.0</td>\n",
       "    </tr>\n",
       "    <tr>\n",
       "      <th>0.82</th>\n",
       "      <td>64.0</td>\n",
       "      <td>612.5</td>\n",
       "      <td>0.0</td>\n",
       "      <td>612.5</td>\n",
       "      <td>612.5</td>\n",
       "      <td>612.5</td>\n",
       "      <td>612.5</td>\n",
       "      <td>612.5</td>\n",
       "    </tr>\n",
       "    <tr>\n",
       "      <th>0.86</th>\n",
       "      <td>64.0</td>\n",
       "      <td>588.0</td>\n",
       "      <td>0.0</td>\n",
       "      <td>588.0</td>\n",
       "      <td>588.0</td>\n",
       "      <td>588.0</td>\n",
       "      <td>588.0</td>\n",
       "      <td>588.0</td>\n",
       "    </tr>\n",
       "    <tr>\n",
       "      <th>0.90</th>\n",
       "      <td>64.0</td>\n",
       "      <td>563.5</td>\n",
       "      <td>0.0</td>\n",
       "      <td>563.5</td>\n",
       "      <td>563.5</td>\n",
       "      <td>563.5</td>\n",
       "      <td>563.5</td>\n",
       "      <td>563.5</td>\n",
       "    </tr>\n",
       "    <tr>\n",
       "      <th>0.98</th>\n",
       "      <td>64.0</td>\n",
       "      <td>514.5</td>\n",
       "      <td>0.0</td>\n",
       "      <td>514.5</td>\n",
       "      <td>514.5</td>\n",
       "      <td>514.5</td>\n",
       "      <td>514.5</td>\n",
       "      <td>514.5</td>\n",
       "    </tr>\n",
       "  </tbody>\n",
       "</table>\n",
       "</div>"
      ],
      "text/plain": [
       "                      count   mean  std    min    25%    50%    75%    max\n",
       "Relative Compactness                                                      \n",
       "0.62                   64.0  808.5  0.0  808.5  808.5  808.5  808.5  808.5\n",
       "0.64                   64.0  784.0  0.0  784.0  784.0  784.0  784.0  784.0\n",
       "0.66                   64.0  759.5  0.0  759.5  759.5  759.5  759.5  759.5\n",
       "0.69                   64.0  735.0  0.0  735.0  735.0  735.0  735.0  735.0\n",
       "0.71                   64.0  710.5  0.0  710.5  710.5  710.5  710.5  710.5\n",
       "0.74                   64.0  686.0  0.0  686.0  686.0  686.0  686.0  686.0\n",
       "0.76                   64.0  661.5  0.0  661.5  661.5  661.5  661.5  661.5\n",
       "0.79                   64.0  637.0  0.0  637.0  637.0  637.0  637.0  637.0\n",
       "0.82                   64.0  612.5  0.0  612.5  612.5  612.5  612.5  612.5\n",
       "0.86                   64.0  588.0  0.0  588.0  588.0  588.0  588.0  588.0\n",
       "0.90                   64.0  563.5  0.0  563.5  563.5  563.5  563.5  563.5\n",
       "0.98                   64.0  514.5  0.0  514.5  514.5  514.5  514.5  514.5"
      ]
     },
     "execution_count": 11,
     "metadata": {},
     "output_type": "execute_result"
    }
   ],
   "source": [
    "x_desc = x_df.groupby(\"Relative Compactness\")[\"Surface Area\"].describe()\n",
    "x_desc"
   ]
  },
  {
   "cell_type": "code",
   "execution_count": 12,
   "id": "e99662c4",
   "metadata": {},
   "outputs": [
    {
     "data": {
      "image/png": "[encoded data removed]",
      "text/plain": [
       "<Figure size 432x288 with 1 Axes>"
      ]
     },
     "metadata": {
      "needs_background": "light"
     },
     "output_type": "display_data"
    }
   ],
   "source": [
    "x_desc.plot.barh();"
   ]
  },
  {
   "cell_type": "markdown",
   "id": "ffd7fb44",
   "metadata": {},
   "source": [
    "#### Burada temel olarak X değişkenleri arasında bir korelasyon yakalama çabasındayım. X1(Göreceli Kompaktlık) ve X2(Yüzey alanı) değerlerinin karşılıklı describe'larına göz atmaya çalışıyorum ve grafik değerlerinden de baktığımız zaman en tutulabilir X1 verisi '0.62' gibi gözüküyor. Total olarak başarıyı yakalamış gibi. Yani buradan şunu çıkartabiliriz; göreceli kompaktlık azaldıkça yüzey alanı değerlerinde artış yaşanıyor. Kaggle'dan aldığım veri seti bilgilendirmesini en başa yazıyorum..."
   ]
  },
  {
   "cell_type": "code",
   "execution_count": 13,
   "id": "dee08b3d",
   "metadata": {},
   "outputs": [
    {
     "data": {
      "text/html": [
       "<div>\n",
       "<style scoped>\n",
       "    .dataframe tbody tr th:only-of-type {\n",
       "        vertical-align: middle;\n",
       "    }\n",
       "\n",
       "    .dataframe tbody tr th {\n",
       "        vertical-align: top;\n",
       "    }\n",
       "\n",
       "    .dataframe thead th {\n",
       "        text-align: right;\n",
       "    }\n",
       "</style>\n",
       "<table border=\"1\" class=\"dataframe\">\n",
       "  <thead>\n",
       "    <tr style=\"text-align: right;\">\n",
       "      <th></th>\n",
       "      <th>Relative Compactness</th>\n",
       "      <th>Surface Area</th>\n",
       "      <th>Wall Area</th>\n",
       "    </tr>\n",
       "  </thead>\n",
       "  <tbody>\n",
       "    <tr>\n",
       "      <th>0</th>\n",
       "      <td>0.215833</td>\n",
       "      <td>-157.208333</td>\n",
       "      <td>-24.5</td>\n",
       "    </tr>\n",
       "    <tr>\n",
       "      <th>1</th>\n",
       "      <td>0.215833</td>\n",
       "      <td>-157.208333</td>\n",
       "      <td>-24.5</td>\n",
       "    </tr>\n",
       "    <tr>\n",
       "      <th>2</th>\n",
       "      <td>0.215833</td>\n",
       "      <td>-157.208333</td>\n",
       "      <td>-24.5</td>\n",
       "    </tr>\n",
       "    <tr>\n",
       "      <th>3</th>\n",
       "      <td>0.215833</td>\n",
       "      <td>-157.208333</td>\n",
       "      <td>-24.5</td>\n",
       "    </tr>\n",
       "    <tr>\n",
       "      <th>4</th>\n",
       "      <td>0.135833</td>\n",
       "      <td>-108.208333</td>\n",
       "      <td>0.0</td>\n",
       "    </tr>\n",
       "    <tr>\n",
       "      <th>...</th>\n",
       "      <td>...</td>\n",
       "      <td>...</td>\n",
       "      <td>...</td>\n",
       "    </tr>\n",
       "    <tr>\n",
       "      <th>763</th>\n",
       "      <td>-0.124167</td>\n",
       "      <td>112.291667</td>\n",
       "      <td>24.5</td>\n",
       "    </tr>\n",
       "    <tr>\n",
       "      <th>764</th>\n",
       "      <td>-0.144167</td>\n",
       "      <td>136.791667</td>\n",
       "      <td>49.0</td>\n",
       "    </tr>\n",
       "    <tr>\n",
       "      <th>765</th>\n",
       "      <td>-0.144167</td>\n",
       "      <td>136.791667</td>\n",
       "      <td>49.0</td>\n",
       "    </tr>\n",
       "    <tr>\n",
       "      <th>766</th>\n",
       "      <td>-0.144167</td>\n",
       "      <td>136.791667</td>\n",
       "      <td>49.0</td>\n",
       "    </tr>\n",
       "    <tr>\n",
       "      <th>767</th>\n",
       "      <td>-0.144167</td>\n",
       "      <td>136.791667</td>\n",
       "      <td>49.0</td>\n",
       "    </tr>\n",
       "  </tbody>\n",
       "</table>\n",
       "<p>768 rows × 3 columns</p>\n",
       "</div>"
      ],
      "text/plain": [
       "     Relative Compactness  Surface Area  Wall Area\n",
       "0                0.215833   -157.208333      -24.5\n",
       "1                0.215833   -157.208333      -24.5\n",
       "2                0.215833   -157.208333      -24.5\n",
       "3                0.215833   -157.208333      -24.5\n",
       "4                0.135833   -108.208333        0.0\n",
       "..                    ...           ...        ...\n",
       "763             -0.124167    112.291667       24.5\n",
       "764             -0.144167    136.791667       49.0\n",
       "765             -0.144167    136.791667       49.0\n",
       "766             -0.144167    136.791667       49.0\n",
       "767             -0.144167    136.791667       49.0\n",
       "\n",
       "[768 rows x 3 columns]"
      ]
     },
     "execution_count": 13,
     "metadata": {},
     "output_type": "execute_result"
    }
   ],
   "source": [
    "df_me = x_df.iloc[:, 0:3]\n",
    "df_me.transform(lambda x: x - x.mean())"
   ]
  },
  {
   "cell_type": "code",
   "execution_count": 14,
   "id": "e1b42f1a",
   "metadata": {},
   "outputs": [
    {
     "data": {
      "text/plain": [
       "Relative Compactness           0.764167\n",
       "Surface Area                 671.708333\n",
       "Wall Area                    318.500000\n",
       "Roof Area                    176.604167\n",
       "Overall Height                 5.250000\n",
       "Orientation                    3.500000\n",
       "Glazing Area                   0.234375\n",
       "Glazing Area Distribution      2.812500\n",
       "dtype: float64"
      ]
     },
     "execution_count": 14,
     "metadata": {},
     "output_type": "execute_result"
    }
   ],
   "source": [
    "x_df.apply(np.mean)"
   ]
  },
  {
   "cell_type": "code",
   "execution_count": 15,
   "id": "4009fea5",
   "metadata": {},
   "outputs": [
    {
     "data": {
      "text/html": [
       "<div>\n",
       "<style scoped>\n",
       "    .dataframe tbody tr th:only-of-type {\n",
       "        vertical-align: middle;\n",
       "    }\n",
       "\n",
       "    .dataframe tbody tr th {\n",
       "        vertical-align: top;\n",
       "    }\n",
       "\n",
       "    .dataframe thead th {\n",
       "        text-align: right;\n",
       "    }\n",
       "</style>\n",
       "<table border=\"1\" class=\"dataframe\">\n",
       "  <thead>\n",
       "    <tr style=\"text-align: right;\">\n",
       "      <th>Orientation</th>\n",
       "      <th>2</th>\n",
       "      <th>3</th>\n",
       "      <th>4</th>\n",
       "      <th>5</th>\n",
       "    </tr>\n",
       "    <tr>\n",
       "      <th>Surface Area</th>\n",
       "      <th></th>\n",
       "      <th></th>\n",
       "      <th></th>\n",
       "      <th></th>\n",
       "    </tr>\n",
       "  </thead>\n",
       "  <tbody>\n",
       "    <tr>\n",
       "      <th>514.5</th>\n",
       "      <td>0.98</td>\n",
       "      <td>0.98</td>\n",
       "      <td>0.98</td>\n",
       "      <td>0.98</td>\n",
       "    </tr>\n",
       "    <tr>\n",
       "      <th>563.5</th>\n",
       "      <td>0.90</td>\n",
       "      <td>0.90</td>\n",
       "      <td>0.90</td>\n",
       "      <td>0.90</td>\n",
       "    </tr>\n",
       "    <tr>\n",
       "      <th>588.0</th>\n",
       "      <td>0.86</td>\n",
       "      <td>0.86</td>\n",
       "      <td>0.86</td>\n",
       "      <td>0.86</td>\n",
       "    </tr>\n",
       "    <tr>\n",
       "      <th>612.5</th>\n",
       "      <td>0.82</td>\n",
       "      <td>0.82</td>\n",
       "      <td>0.82</td>\n",
       "      <td>0.82</td>\n",
       "    </tr>\n",
       "    <tr>\n",
       "      <th>637.0</th>\n",
       "      <td>0.79</td>\n",
       "      <td>0.79</td>\n",
       "      <td>0.79</td>\n",
       "      <td>0.79</td>\n",
       "    </tr>\n",
       "    <tr>\n",
       "      <th>661.5</th>\n",
       "      <td>0.76</td>\n",
       "      <td>0.76</td>\n",
       "      <td>0.76</td>\n",
       "      <td>0.76</td>\n",
       "    </tr>\n",
       "    <tr>\n",
       "      <th>686.0</th>\n",
       "      <td>0.74</td>\n",
       "      <td>0.74</td>\n",
       "      <td>0.74</td>\n",
       "      <td>0.74</td>\n",
       "    </tr>\n",
       "    <tr>\n",
       "      <th>710.5</th>\n",
       "      <td>0.71</td>\n",
       "      <td>0.71</td>\n",
       "      <td>0.71</td>\n",
       "      <td>0.71</td>\n",
       "    </tr>\n",
       "    <tr>\n",
       "      <th>735.0</th>\n",
       "      <td>0.69</td>\n",
       "      <td>0.69</td>\n",
       "      <td>0.69</td>\n",
       "      <td>0.69</td>\n",
       "    </tr>\n",
       "    <tr>\n",
       "      <th>759.5</th>\n",
       "      <td>0.66</td>\n",
       "      <td>0.66</td>\n",
       "      <td>0.66</td>\n",
       "      <td>0.66</td>\n",
       "    </tr>\n",
       "    <tr>\n",
       "      <th>784.0</th>\n",
       "      <td>0.64</td>\n",
       "      <td>0.64</td>\n",
       "      <td>0.64</td>\n",
       "      <td>0.64</td>\n",
       "    </tr>\n",
       "    <tr>\n",
       "      <th>808.5</th>\n",
       "      <td>0.62</td>\n",
       "      <td>0.62</td>\n",
       "      <td>0.62</td>\n",
       "      <td>0.62</td>\n",
       "    </tr>\n",
       "  </tbody>\n",
       "</table>\n",
       "</div>"
      ],
      "text/plain": [
       "Orientation      2     3     4     5\n",
       "Surface Area                        \n",
       "514.5         0.98  0.98  0.98  0.98\n",
       "563.5         0.90  0.90  0.90  0.90\n",
       "588.0         0.86  0.86  0.86  0.86\n",
       "612.5         0.82  0.82  0.82  0.82\n",
       "637.0         0.79  0.79  0.79  0.79\n",
       "661.5         0.76  0.76  0.76  0.76\n",
       "686.0         0.74  0.74  0.74  0.74\n",
       "710.5         0.71  0.71  0.71  0.71\n",
       "735.0         0.69  0.69  0.69  0.69\n",
       "759.5         0.66  0.66  0.66  0.66\n",
       "784.0         0.64  0.64  0.64  0.64\n",
       "808.5         0.62  0.62  0.62  0.62"
      ]
     },
     "execution_count": 15,
     "metadata": {},
     "output_type": "execute_result"
    }
   ],
   "source": [
    "x_df.pivot_table(\"Relative Compactness\", index = \"Surface Area\", columns = \"Orientation\")"
   ]
  },
  {
   "cell_type": "markdown",
   "id": "eaa4c755",
   "metadata": {},
   "source": [
    "#### Temel bazı uygulamalar ve kullanımlar.."
   ]
  },
  {
   "cell_type": "code",
   "execution_count": 16,
   "id": "91ddc6f8",
   "metadata": {},
   "outputs": [
    {
     "data": {
      "image/png": "[encoded data removed]",
      "text/plain": [
       "<Figure size 432x288 with 1 Axes>"
      ]
     },
     "metadata": {
      "needs_background": "light"
     },
     "output_type": "display_data"
    }
   ],
   "source": [
    "sns.barplot(x = \"Relative Compactness\", y = \"Surface Area\", data=x_df);"
   ]
  },
  {
   "cell_type": "code",
   "execution_count": 17,
   "id": "0d3ef45a",
   "metadata": {},
   "outputs": [
    {
     "data": {
      "image/png": "[encoded data removed]",
      "text/plain": [
       "<Figure size 432x288 with 1 Axes>"
      ]
     },
     "metadata": {
      "needs_background": "light"
     },
     "output_type": "display_data"
    }
   ],
   "source": [
    "sns.barplot(x = \"Relative Compactness\", y = \"Wall Area\", data=x_df);"
   ]
  },
  {
   "cell_type": "code",
   "execution_count": 18,
   "id": "393c0087",
   "metadata": {},
   "outputs": [
    {
     "data": {
      "image/png": "[encoded data removed]",
      "text/plain": [
       "<Figure size 432x288 with 1 Axes>"
      ]
     },
     "metadata": {
      "needs_background": "light"
     },
     "output_type": "display_data"
    }
   ],
   "source": [
    "sns.barplot(x = \"Relative Compactness\", y = \"Roof Area\", data=x_df);"
   ]
  },
  {
   "cell_type": "code",
   "execution_count": 19,
   "id": "7119cb0c",
   "metadata": {},
   "outputs": [
    {
     "data": {
      "image/png": "[encoded data removed]",
      "text/plain": [
       "<Figure size 432x288 with 1 Axes>"
      ]
     },
     "metadata": {
      "needs_background": "light"
     },
     "output_type": "display_data"
    }
   ],
   "source": [
    "sns.barplot(x = \"Relative Compactness\", y = \"Glazing Area\", data=x_df);"
   ]
  },
  {
   "cell_type": "markdown",
   "id": "bae18809",
   "metadata": {},
   "source": [
    "#### Burada görece kompaktlık değişkenini baz alarak 'alanlar' üzerinden sorgulama ve grafiklendirme gerçekleştirdim. Kompaktlık, yoğun ve dolgunluk anlamına geliyor. Dolayısıyla yüzey, duvar, çatı ve cam gibi alanların yoğunlukları üzerinden bilgi sahibi olmaya çalıştım."
   ]
  },
  {
   "cell_type": "code",
   "execution_count": 20,
   "id": "c69dce96",
   "metadata": {},
   "outputs": [
    {
     "data": {
      "image/png": "[encoded data removed]",
      "text/plain": [
       "<Figure size 440x360 with 1 Axes>"
      ]
     },
     "metadata": {
      "needs_background": "light"
     },
     "output_type": "display_data"
    }
   ],
   "source": [
    "sns.catplot(x = \"Relative Compactness\", y = \"Surface Area\", hue = \"Overall Height\", kind=\"point\", data=x_df);"
   ]
  },
  {
   "cell_type": "code",
   "execution_count": 21,
   "id": "258fecc1",
   "metadata": {},
   "outputs": [
    {
     "data": {
      "image/png": "[encoded data removed]",
      "text/plain": [
       "<Figure size 432x288 with 1 Axes>"
      ]
     },
     "metadata": {
      "needs_background": "light"
     },
     "output_type": "display_data"
    }
   ],
   "source": [
    "sns.barplot(x = \"Relative Compactness\", y = \"Surface Area\", hue = \"Overall Height\", data=x_df);"
   ]
  },
  {
   "cell_type": "markdown",
   "id": "b9d84402",
   "metadata": {},
   "source": [
    "#### Şu anda da değişkenler üzerinde çaprazlama gerçekleştiriyorum. Bu değerleri birbiri ile değerlendirecek grafikler bunlar.Yüzey alanını(Surface Area) yükseklik(Overall Height) ve kompaktlık(Relative Compactness) ile sınadığımız bu verilerde genel yükseklik artıkça yoğunluk ve yüzey alanında düşüş saptıyoruz.. Yani genel yükseklik, yüzey alanı için miniumum derecede önemli. Şimdi diğer alanlar için de bunu gözlemleyeceğim."
   ]
  },
  {
   "cell_type": "code",
   "execution_count": 22,
   "id": "408c4316",
   "metadata": {},
   "outputs": [
    {
     "data": {
      "image/png": "[encoded data removed]",
      "text/plain": [
       "<Figure size 432x288 with 1 Axes>"
      ]
     },
     "metadata": {
      "needs_background": "light"
     },
     "output_type": "display_data"
    }
   ],
   "source": [
    "sns.barplot(x = \"Relative Compactness\", y = \"Wall Area\", hue = \"Overall Height\", data=x_df);"
   ]
  },
  {
   "cell_type": "code",
   "execution_count": 23,
   "id": "12741d8b",
   "metadata": {},
   "outputs": [
    {
     "data": {
      "image/png": "[encoded data removed]",
      "text/plain": [
       "<Figure size 440x360 with 1 Axes>"
      ]
     },
     "metadata": {
      "needs_background": "light"
     },
     "output_type": "display_data"
    }
   ],
   "source": [
    "sns.displot(x = \"Relative Compactness\", y = \"Wall Area\", hue = \"Overall Height\", bins=10, data=x_df);"
   ]
  },
  {
   "cell_type": "markdown",
   "id": "0b90e3e9",
   "metadata": {},
   "source": [
    "#### Mesela duvar alanı(wall area) için gerçekleştirdiğimiz bu grafik bize genel yükseliğin, duvar alanı için önemli olduğunu gösteriyor. Duvar alanı arttıkça genel yükseklikte artmış."
   ]
  },
  {
   "cell_type": "code",
   "execution_count": 24,
   "id": "2b2919c9",
   "metadata": {},
   "outputs": [
    {
     "data": {
      "image/png": "[encoded data removed]",
      "text/plain": [
       "<Figure size 432x288 with 1 Axes>"
      ]
     },
     "metadata": {
      "needs_background": "light"
     },
     "output_type": "display_data"
    }
   ],
   "source": [
    "sns.barplot(x = \"Relative Compactness\", y = \"Roof Area\", hue = \"Overall Height\", data=x_df);"
   ]
  },
  {
   "cell_type": "code",
   "execution_count": 26,
   "id": "9fdc229b",
   "metadata": {},
   "outputs": [
    {
     "data": {
      "image/png": "[encoded data removed]",
      "text/plain": [
       "<Figure size 440x360 with 1 Axes>"
      ]
     },
     "metadata": {
      "needs_background": "light"
     },
     "output_type": "display_data"
    }
   ],
   "source": [
    "sns.catplot(x = \"Relative Compactness\", y = \"Roof Area\", hue = \"Overall Height\", kind=\"violin\",data=x_df);"
   ]
  },
  {
   "cell_type": "markdown",
   "id": "75084315",
   "metadata": {},
   "source": [
    "#### Yine çatı alanı(roof area) için durumlar yüzey alanı gibi."
   ]
  },
  {
   "cell_type": "code",
   "execution_count": 27,
   "id": "00f7a265",
   "metadata": {},
   "outputs": [
    {
     "data": {
      "image/png": "[encoded data removed]",
      "text/plain": [
       "<Figure size 1800x1080 with 9 Axes>"
      ]
     },
     "metadata": {
      "needs_background": "light"
     },
     "output_type": "display_data"
    }
   ],
   "source": [
    "x_df.hist(figsize=(25,15),bins=50);"
   ]
  },
  {
   "cell_type": "code",
   "execution_count": 28,
   "id": "13fd5147",
   "metadata": {},
   "outputs": [
    {
     "data": {
      "image/png": "[encoded data removed]",
      "text/plain": [
       "<Figure size 1324.38x1260 with 56 Axes>"
      ]
     },
     "metadata": {
      "needs_background": "light"
     },
     "output_type": "display_data"
    }
   ],
   "source": [
    "sns.pairplot(x_df, hue=\"Orientation\", diag_kind=\"hist\");"
   ]
  },
  {
   "cell_type": "markdown",
   "id": "11b72b5e",
   "metadata": {},
   "source": [
    "#### Genel grafik eğilimlerimize de göz attıktan sonra görselleştirme aşamasını sonlandırıyorum..."
   ]
  },
  {
   "cell_type": "markdown",
   "id": "9dca056c",
   "metadata": {},
   "source": [
    "#### Şimdi işin biraz makine modellemesine geçmeden ki istatistiksel yapısını gözlemleyelim. "
   ]
  },
  {
   "cell_type": "code",
   "execution_count": 29,
   "id": "34d4e3a6",
   "metadata": {},
   "outputs": [
    {
     "name": "stdout",
     "output_type": "stream",
     "text": [
      "\n",
      "\n"
     ]
    },
    {
     "data": {
      "text/html": [
       "<div>\n",
       "<style scoped>\n",
       "    .dataframe tbody tr th:only-of-type {\n",
       "        vertical-align: middle;\n",
       "    }\n",
       "\n",
       "    .dataframe tbody tr th {\n",
       "        vertical-align: top;\n",
       "    }\n",
       "\n",
       "    .dataframe thead th {\n",
       "        text-align: right;\n",
       "    }\n",
       "</style>\n",
       "<table border=\"1\" class=\"dataframe\">\n",
       "  <thead>\n",
       "    <tr style=\"text-align: right;\">\n",
       "      <th></th>\n",
       "      <th>Variable</th>\n",
       "      <th>N</th>\n",
       "      <th>Mean</th>\n",
       "      <th>SD</th>\n",
       "      <th>SE</th>\n",
       "      <th>95% Conf.</th>\n",
       "      <th>Interval</th>\n",
       "    </tr>\n",
       "  </thead>\n",
       "  <tbody>\n",
       "    <tr>\n",
       "      <th>0</th>\n",
       "      <td>Relative Compactness</td>\n",
       "      <td>768.0</td>\n",
       "      <td>0.7642</td>\n",
       "      <td>0.1058</td>\n",
       "      <td>0.0038</td>\n",
       "      <td>0.7567</td>\n",
       "      <td>0.7717</td>\n",
       "    </tr>\n",
       "    <tr>\n",
       "      <th>1</th>\n",
       "      <td>Wall Area</td>\n",
       "      <td>768.0</td>\n",
       "      <td>318.5000</td>\n",
       "      <td>43.6265</td>\n",
       "      <td>1.5742</td>\n",
       "      <td>315.4097</td>\n",
       "      <td>321.5903</td>\n",
       "    </tr>\n",
       "    <tr>\n",
       "      <th>2</th>\n",
       "      <td>Overall Height</td>\n",
       "      <td>768.0</td>\n",
       "      <td>5.2500</td>\n",
       "      <td>1.7511</td>\n",
       "      <td>0.0632</td>\n",
       "      <td>5.1260</td>\n",
       "      <td>5.3740</td>\n",
       "    </tr>\n",
       "  </tbody>\n",
       "</table>\n",
       "</div>"
      ],
      "text/plain": [
       "               Variable      N      Mean       SD      SE  95% Conf.  Interval\n",
       "0  Relative Compactness  768.0    0.7642   0.1058  0.0038     0.7567    0.7717\n",
       "1             Wall Area  768.0  318.5000  43.6265  1.5742   315.4097  321.5903\n",
       "2        Overall Height  768.0    5.2500   1.7511  0.0632     5.1260    5.3740"
      ]
     },
     "execution_count": 29,
     "metadata": {},
     "output_type": "execute_result"
    }
   ],
   "source": [
    "import researchpy as rp\n",
    "rp.summary_cont(x_df[[\"Relative Compactness\",\"Wall Area\", \"Overall Height\"]])"
   ]
  },
  {
   "cell_type": "code",
   "execution_count": 30,
   "id": "42a997af",
   "metadata": {},
   "outputs": [
    {
     "name": "stdout",
     "output_type": "stream",
     "text": [
      "\n",
      "\n"
     ]
    },
    {
     "data": {
      "text/html": [
       "<div>\n",
       "<style scoped>\n",
       "    .dataframe tbody tr th:only-of-type {\n",
       "        vertical-align: middle;\n",
       "    }\n",
       "\n",
       "    .dataframe tbody tr th {\n",
       "        vertical-align: top;\n",
       "    }\n",
       "\n",
       "    .dataframe thead th {\n",
       "        text-align: right;\n",
       "    }\n",
       "</style>\n",
       "<table border=\"1\" class=\"dataframe\">\n",
       "  <thead>\n",
       "    <tr style=\"text-align: right;\">\n",
       "      <th></th>\n",
       "      <th>Variable</th>\n",
       "      <th>N</th>\n",
       "      <th>Mean</th>\n",
       "      <th>SD</th>\n",
       "      <th>SE</th>\n",
       "      <th>95% Conf.</th>\n",
       "      <th>Interval</th>\n",
       "    </tr>\n",
       "  </thead>\n",
       "  <tbody>\n",
       "    <tr>\n",
       "      <th>0</th>\n",
       "      <td>Relative Compactness</td>\n",
       "      <td>768.0</td>\n",
       "      <td>0.7642</td>\n",
       "      <td>0.1058</td>\n",
       "      <td>0.0038</td>\n",
       "      <td>0.7567</td>\n",
       "      <td>0.7717</td>\n",
       "    </tr>\n",
       "    <tr>\n",
       "      <th>1</th>\n",
       "      <td>Surface Area</td>\n",
       "      <td>768.0</td>\n",
       "      <td>671.7083</td>\n",
       "      <td>88.0861</td>\n",
       "      <td>3.1785</td>\n",
       "      <td>665.4687</td>\n",
       "      <td>677.9480</td>\n",
       "    </tr>\n",
       "    <tr>\n",
       "      <th>2</th>\n",
       "      <td>Wall Area</td>\n",
       "      <td>768.0</td>\n",
       "      <td>318.5000</td>\n",
       "      <td>43.6265</td>\n",
       "      <td>1.5742</td>\n",
       "      <td>315.4097</td>\n",
       "      <td>321.5903</td>\n",
       "    </tr>\n",
       "    <tr>\n",
       "      <th>3</th>\n",
       "      <td>Roof Area</td>\n",
       "      <td>768.0</td>\n",
       "      <td>176.6042</td>\n",
       "      <td>45.1660</td>\n",
       "      <td>1.6298</td>\n",
       "      <td>173.4048</td>\n",
       "      <td>179.8035</td>\n",
       "    </tr>\n",
       "    <tr>\n",
       "      <th>4</th>\n",
       "      <td>Overall Height</td>\n",
       "      <td>768.0</td>\n",
       "      <td>5.2500</td>\n",
       "      <td>1.7511</td>\n",
       "      <td>0.0632</td>\n",
       "      <td>5.1260</td>\n",
       "      <td>5.3740</td>\n",
       "    </tr>\n",
       "    <tr>\n",
       "      <th>5</th>\n",
       "      <td>Orientation</td>\n",
       "      <td>768.0</td>\n",
       "      <td>3.5000</td>\n",
       "      <td>1.1188</td>\n",
       "      <td>0.0404</td>\n",
       "      <td>3.4208</td>\n",
       "      <td>3.5792</td>\n",
       "    </tr>\n",
       "    <tr>\n",
       "      <th>6</th>\n",
       "      <td>Glazing Area</td>\n",
       "      <td>768.0</td>\n",
       "      <td>0.2344</td>\n",
       "      <td>0.1332</td>\n",
       "      <td>0.0048</td>\n",
       "      <td>0.2249</td>\n",
       "      <td>0.2438</td>\n",
       "    </tr>\n",
       "    <tr>\n",
       "      <th>7</th>\n",
       "      <td>Glazing Area Distribution</td>\n",
       "      <td>768.0</td>\n",
       "      <td>2.8125</td>\n",
       "      <td>1.5510</td>\n",
       "      <td>0.0560</td>\n",
       "      <td>2.7026</td>\n",
       "      <td>2.9224</td>\n",
       "    </tr>\n",
       "  </tbody>\n",
       "</table>\n",
       "</div>"
      ],
      "text/plain": [
       "                    Variable      N      Mean       SD      SE  95% Conf.  \\\n",
       "0       Relative Compactness  768.0    0.7642   0.1058  0.0038     0.7567   \n",
       "1               Surface Area  768.0  671.7083  88.0861  3.1785   665.4687   \n",
       "2                  Wall Area  768.0  318.5000  43.6265  1.5742   315.4097   \n",
       "3                  Roof Area  768.0  176.6042  45.1660  1.6298   173.4048   \n",
       "4             Overall Height  768.0    5.2500   1.7511  0.0632     5.1260   \n",
       "5                Orientation  768.0    3.5000   1.1188  0.0404     3.4208   \n",
       "6               Glazing Area  768.0    0.2344   0.1332  0.0048     0.2249   \n",
       "7  Glazing Area Distribution  768.0    2.8125   1.5510  0.0560     2.7026   \n",
       "\n",
       "   Interval  \n",
       "0    0.7717  \n",
       "1  677.9480  \n",
       "2  321.5903  \n",
       "3  179.8035  \n",
       "4    5.3740  \n",
       "5    3.5792  \n",
       "6    0.2438  \n",
       "7    2.9224  "
      ]
     },
     "execution_count": 30,
     "metadata": {},
     "output_type": "execute_result"
    }
   ],
   "source": [
    "rp.summary_cont(x_df)"
   ]
  },
  {
   "cell_type": "markdown",
   "id": "8bca3c85",
   "metadata": {},
   "source": [
    "#### Researchpy kütüphanesinin summary_cont fonksiyonu ile bir diğer betimsel istatistik yapısını gözlemleme imkanımız olmuştu.  Burada yine gözlem sayısı, ortalama değer ve standart sapma gibi gözlemlediğimiz değerler mevcut. Ancak SE yani standart hata, %95 güven aralığı ve aralık değerlerini gözlemlememizi sağlıyor."
   ]
  },
  {
   "cell_type": "markdown",
   "id": "19644007",
   "metadata": {},
   "source": [
    "#### Buradaki güven aralığı, ana kütle parametresinin tahmini değerini kapsayabilecek iki sayıdan oluşan bir aralık bulma işlemidir. Ayrıyeten güven aralığı, ölçünün hassasiyetinin göstergesidir. Yaptığımız tahminlerin ne kadar güvenilir olduğuna dair bize veri sunar."
   ]
  },
  {
   "cell_type": "code",
   "execution_count": 31,
   "id": "ff633592",
   "metadata": {},
   "outputs": [
    {
     "data": {
      "text/html": [
       "<div>\n",
       "<style scoped>\n",
       "    .dataframe tbody tr th:only-of-type {\n",
       "        vertical-align: middle;\n",
       "    }\n",
       "\n",
       "    .dataframe tbody tr th {\n",
       "        vertical-align: top;\n",
       "    }\n",
       "\n",
       "    .dataframe thead th {\n",
       "        text-align: right;\n",
       "    }\n",
       "</style>\n",
       "<table border=\"1\" class=\"dataframe\">\n",
       "  <thead>\n",
       "    <tr style=\"text-align: right;\">\n",
       "      <th></th>\n",
       "      <th>Relative Compactness</th>\n",
       "      <th>Wall Area</th>\n",
       "      <th>Overall Height</th>\n",
       "    </tr>\n",
       "  </thead>\n",
       "  <tbody>\n",
       "    <tr>\n",
       "      <th>Relative Compactness</th>\n",
       "      <td>0.011189</td>\n",
       "      <td>-0.940391</td>\n",
       "      <td>0.153325</td>\n",
       "    </tr>\n",
       "    <tr>\n",
       "      <th>Wall Area</th>\n",
       "      <td>-0.940391</td>\n",
       "      <td>1903.269883</td>\n",
       "      <td>21.465450</td>\n",
       "    </tr>\n",
       "    <tr>\n",
       "      <th>Overall Height</th>\n",
       "      <td>0.153325</td>\n",
       "      <td>21.465450</td>\n",
       "      <td>3.066493</td>\n",
       "    </tr>\n",
       "  </tbody>\n",
       "</table>\n",
       "</div>"
      ],
      "text/plain": [
       "                      Relative Compactness    Wall Area  Overall Height\n",
       "Relative Compactness              0.011189    -0.940391        0.153325\n",
       "Wall Area                        -0.940391  1903.269883       21.465450\n",
       "Overall Height                    0.153325    21.465450        3.066493"
      ]
     },
     "execution_count": 31,
     "metadata": {},
     "output_type": "execute_result"
    }
   ],
   "source": [
    "x_df[[\"Relative Compactness\",\"Wall Area\", \"Overall Height\"]].cov()"
   ]
  },
  {
   "cell_type": "markdown",
   "id": "010cd472",
   "metadata": {},
   "source": [
    "#### Burada kovaryans değerlerini saptadık. Yani değişkenlerin ilişkilerine ilişkin değişkenlik ölçütü elde ediyoruz. Şimdi korelasyona göz atmak istersek;"
   ]
  },
  {
   "cell_type": "code",
   "execution_count": 32,
   "id": "18f4343a",
   "metadata": {},
   "outputs": [
    {
     "data": {
      "text/html": [
       "<div>\n",
       "<style scoped>\n",
       "    .dataframe tbody tr th:only-of-type {\n",
       "        vertical-align: middle;\n",
       "    }\n",
       "\n",
       "    .dataframe tbody tr th {\n",
       "        vertical-align: top;\n",
       "    }\n",
       "\n",
       "    .dataframe thead th {\n",
       "        text-align: right;\n",
       "    }\n",
       "</style>\n",
       "<table border=\"1\" class=\"dataframe\">\n",
       "  <thead>\n",
       "    <tr style=\"text-align: right;\">\n",
       "      <th></th>\n",
       "      <th>Relative Compactness</th>\n",
       "      <th>Wall Area</th>\n",
       "      <th>Overall Height</th>\n",
       "    </tr>\n",
       "  </thead>\n",
       "  <tbody>\n",
       "    <tr>\n",
       "      <th>Relative Compactness</th>\n",
       "      <td>1.000000</td>\n",
       "      <td>-0.203782</td>\n",
       "      <td>0.827747</td>\n",
       "    </tr>\n",
       "    <tr>\n",
       "      <th>Wall Area</th>\n",
       "      <td>-0.203782</td>\n",
       "      <td>1.000000</td>\n",
       "      <td>0.280976</td>\n",
       "    </tr>\n",
       "    <tr>\n",
       "      <th>Overall Height</th>\n",
       "      <td>0.827747</td>\n",
       "      <td>0.280976</td>\n",
       "      <td>1.000000</td>\n",
       "    </tr>\n",
       "  </tbody>\n",
       "</table>\n",
       "</div>"
      ],
      "text/plain": [
       "                      Relative Compactness  Wall Area  Overall Height\n",
       "Relative Compactness              1.000000  -0.203782        0.827747\n",
       "Wall Area                        -0.203782   1.000000        0.280976\n",
       "Overall Height                    0.827747   0.280976        1.000000"
      ]
     },
     "execution_count": 32,
     "metadata": {},
     "output_type": "execute_result"
    }
   ],
   "source": [
    "x_df[[\"Relative Compactness\",\"Wall Area\", \"Overall Height\"]].corr()"
   ]
  },
  {
   "cell_type": "code",
   "execution_count": 33,
   "id": "5a2ca32f",
   "metadata": {
    "scrolled": true
   },
   "outputs": [
    {
     "name": "stdout",
     "output_type": "stream",
     "text": [
      "Q1 =\n",
      "Relative Compactness           0.6825\n",
      "Surface Area                 606.3750\n",
      "Wall Area                    294.0000\n",
      "Roof Area                    140.8750\n",
      "Overall Height                 3.5000\n",
      "Orientation                    2.7500\n",
      "Glazing Area                   0.1000\n",
      "Glazing Area Distribution      1.7500\n",
      "Name: 0.25, dtype: float64\n",
      "Q3 =\n",
      "Relative Compactness           0.830\n",
      "Surface Area                 741.125\n",
      "Wall Area                    343.000\n",
      "Roof Area                    220.500\n",
      "Overall Height                 7.000\n",
      "Orientation                    4.250\n",
      "Glazing Area                   0.400\n",
      "Glazing Area Distribution      4.000\n",
      "Name: 0.75, dtype: float64\n",
      "IQR =\n",
      "Relative Compactness           0.1475\n",
      "Surface Area                 134.7500\n",
      "Wall Area                     49.0000\n",
      "Roof Area                     79.6250\n",
      "Overall Height                 3.5000\n",
      "Orientation                    1.5000\n",
      "Glazing Area                   0.3000\n",
      "Glazing Area Distribution      2.2500\n",
      "dtype: float64\n"
     ]
    }
   ],
   "source": [
    "Q1 = x_df.quantile(0.25)\n",
    "Q3 = x_df.quantile(0.75)\n",
    "IQR = Q3 - Q1\n",
    "print(f\"Q1 =\\n{Q1}\\nQ3 =\\n{Q3}\\nIQR =\\n{IQR}\")"
   ]
  },
  {
   "cell_type": "code",
   "execution_count": 34,
   "id": "fd62bb96",
   "metadata": {},
   "outputs": [],
   "source": [
    "alt_sinir = Q1 - 1.5 * IQR\n",
    "ust_sinir = Q3 + 1.5 * IQR"
   ]
  },
  {
   "cell_type": "code",
   "execution_count": 35,
   "id": "690d1371",
   "metadata": {},
   "outputs": [
    {
     "data": {
      "text/html": [
       "<div>\n",
       "<style scoped>\n",
       "    .dataframe tbody tr th:only-of-type {\n",
       "        vertical-align: middle;\n",
       "    }\n",
       "\n",
       "    .dataframe tbody tr th {\n",
       "        vertical-align: top;\n",
       "    }\n",
       "\n",
       "    .dataframe thead th {\n",
       "        text-align: right;\n",
       "    }\n",
       "</style>\n",
       "<table border=\"1\" class=\"dataframe\">\n",
       "  <thead>\n",
       "    <tr style=\"text-align: right;\">\n",
       "      <th></th>\n",
       "      <th>Relative Compactness</th>\n",
       "      <th>Surface Area</th>\n",
       "      <th>Wall Area</th>\n",
       "      <th>Roof Area</th>\n",
       "      <th>Overall Height</th>\n",
       "      <th>Orientation</th>\n",
       "      <th>Glazing Area</th>\n",
       "      <th>Glazing Area Distribution</th>\n",
       "    </tr>\n",
       "  </thead>\n",
       "  <tbody>\n",
       "    <tr>\n",
       "      <th>350</th>\n",
       "      <td>False</td>\n",
       "      <td>False</td>\n",
       "      <td>False</td>\n",
       "      <td>False</td>\n",
       "      <td>False</td>\n",
       "      <td>False</td>\n",
       "      <td>False</td>\n",
       "      <td>False</td>\n",
       "    </tr>\n",
       "    <tr>\n",
       "      <th>351</th>\n",
       "      <td>False</td>\n",
       "      <td>False</td>\n",
       "      <td>False</td>\n",
       "      <td>False</td>\n",
       "      <td>False</td>\n",
       "      <td>False</td>\n",
       "      <td>False</td>\n",
       "      <td>False</td>\n",
       "    </tr>\n",
       "    <tr>\n",
       "      <th>352</th>\n",
       "      <td>False</td>\n",
       "      <td>False</td>\n",
       "      <td>False</td>\n",
       "      <td>False</td>\n",
       "      <td>False</td>\n",
       "      <td>False</td>\n",
       "      <td>False</td>\n",
       "      <td>False</td>\n",
       "    </tr>\n",
       "    <tr>\n",
       "      <th>353</th>\n",
       "      <td>False</td>\n",
       "      <td>False</td>\n",
       "      <td>False</td>\n",
       "      <td>False</td>\n",
       "      <td>False</td>\n",
       "      <td>False</td>\n",
       "      <td>False</td>\n",
       "      <td>False</td>\n",
       "    </tr>\n",
       "    <tr>\n",
       "      <th>354</th>\n",
       "      <td>False</td>\n",
       "      <td>False</td>\n",
       "      <td>False</td>\n",
       "      <td>False</td>\n",
       "      <td>False</td>\n",
       "      <td>False</td>\n",
       "      <td>False</td>\n",
       "      <td>False</td>\n",
       "    </tr>\n",
       "    <tr>\n",
       "      <th>355</th>\n",
       "      <td>False</td>\n",
       "      <td>False</td>\n",
       "      <td>False</td>\n",
       "      <td>False</td>\n",
       "      <td>False</td>\n",
       "      <td>False</td>\n",
       "      <td>False</td>\n",
       "      <td>False</td>\n",
       "    </tr>\n",
       "    <tr>\n",
       "      <th>356</th>\n",
       "      <td>False</td>\n",
       "      <td>False</td>\n",
       "      <td>False</td>\n",
       "      <td>False</td>\n",
       "      <td>False</td>\n",
       "      <td>False</td>\n",
       "      <td>False</td>\n",
       "      <td>False</td>\n",
       "    </tr>\n",
       "    <tr>\n",
       "      <th>357</th>\n",
       "      <td>False</td>\n",
       "      <td>False</td>\n",
       "      <td>False</td>\n",
       "      <td>False</td>\n",
       "      <td>False</td>\n",
       "      <td>False</td>\n",
       "      <td>False</td>\n",
       "      <td>False</td>\n",
       "    </tr>\n",
       "    <tr>\n",
       "      <th>358</th>\n",
       "      <td>False</td>\n",
       "      <td>False</td>\n",
       "      <td>False</td>\n",
       "      <td>False</td>\n",
       "      <td>False</td>\n",
       "      <td>False</td>\n",
       "      <td>False</td>\n",
       "      <td>False</td>\n",
       "    </tr>\n",
       "    <tr>\n",
       "      <th>359</th>\n",
       "      <td>False</td>\n",
       "      <td>False</td>\n",
       "      <td>False</td>\n",
       "      <td>False</td>\n",
       "      <td>False</td>\n",
       "      <td>False</td>\n",
       "      <td>False</td>\n",
       "      <td>False</td>\n",
       "    </tr>\n",
       "    <tr>\n",
       "      <th>360</th>\n",
       "      <td>False</td>\n",
       "      <td>False</td>\n",
       "      <td>False</td>\n",
       "      <td>False</td>\n",
       "      <td>False</td>\n",
       "      <td>False</td>\n",
       "      <td>False</td>\n",
       "      <td>False</td>\n",
       "    </tr>\n",
       "    <tr>\n",
       "      <th>361</th>\n",
       "      <td>False</td>\n",
       "      <td>False</td>\n",
       "      <td>False</td>\n",
       "      <td>False</td>\n",
       "      <td>False</td>\n",
       "      <td>False</td>\n",
       "      <td>False</td>\n",
       "      <td>False</td>\n",
       "    </tr>\n",
       "    <tr>\n",
       "      <th>362</th>\n",
       "      <td>False</td>\n",
       "      <td>False</td>\n",
       "      <td>False</td>\n",
       "      <td>False</td>\n",
       "      <td>False</td>\n",
       "      <td>False</td>\n",
       "      <td>False</td>\n",
       "      <td>False</td>\n",
       "    </tr>\n",
       "    <tr>\n",
       "      <th>363</th>\n",
       "      <td>False</td>\n",
       "      <td>False</td>\n",
       "      <td>False</td>\n",
       "      <td>False</td>\n",
       "      <td>False</td>\n",
       "      <td>False</td>\n",
       "      <td>False</td>\n",
       "      <td>False</td>\n",
       "    </tr>\n",
       "    <tr>\n",
       "      <th>364</th>\n",
       "      <td>False</td>\n",
       "      <td>False</td>\n",
       "      <td>False</td>\n",
       "      <td>False</td>\n",
       "      <td>False</td>\n",
       "      <td>False</td>\n",
       "      <td>False</td>\n",
       "      <td>False</td>\n",
       "    </tr>\n",
       "    <tr>\n",
       "      <th>365</th>\n",
       "      <td>False</td>\n",
       "      <td>False</td>\n",
       "      <td>False</td>\n",
       "      <td>False</td>\n",
       "      <td>False</td>\n",
       "      <td>False</td>\n",
       "      <td>False</td>\n",
       "      <td>False</td>\n",
       "    </tr>\n",
       "    <tr>\n",
       "      <th>366</th>\n",
       "      <td>False</td>\n",
       "      <td>False</td>\n",
       "      <td>False</td>\n",
       "      <td>False</td>\n",
       "      <td>False</td>\n",
       "      <td>False</td>\n",
       "      <td>False</td>\n",
       "      <td>False</td>\n",
       "    </tr>\n",
       "    <tr>\n",
       "      <th>367</th>\n",
       "      <td>False</td>\n",
       "      <td>False</td>\n",
       "      <td>False</td>\n",
       "      <td>False</td>\n",
       "      <td>False</td>\n",
       "      <td>False</td>\n",
       "      <td>False</td>\n",
       "      <td>False</td>\n",
       "    </tr>\n",
       "    <tr>\n",
       "      <th>368</th>\n",
       "      <td>False</td>\n",
       "      <td>False</td>\n",
       "      <td>False</td>\n",
       "      <td>False</td>\n",
       "      <td>False</td>\n",
       "      <td>False</td>\n",
       "      <td>False</td>\n",
       "      <td>False</td>\n",
       "    </tr>\n",
       "    <tr>\n",
       "      <th>369</th>\n",
       "      <td>False</td>\n",
       "      <td>False</td>\n",
       "      <td>False</td>\n",
       "      <td>False</td>\n",
       "      <td>False</td>\n",
       "      <td>False</td>\n",
       "      <td>False</td>\n",
       "      <td>False</td>\n",
       "    </tr>\n",
       "  </tbody>\n",
       "</table>\n",
       "</div>"
      ],
      "text/plain": [
       "     Relative Compactness  Surface Area  Wall Area  Roof Area  Overall Height  \\\n",
       "350                 False         False      False      False           False   \n",
       "351                 False         False      False      False           False   \n",
       "352                 False         False      False      False           False   \n",
       "353                 False         False      False      False           False   \n",
       "354                 False         False      False      False           False   \n",
       "355                 False         False      False      False           False   \n",
       "356                 False         False      False      False           False   \n",
       "357                 False         False      False      False           False   \n",
       "358                 False         False      False      False           False   \n",
       "359                 False         False      False      False           False   \n",
       "360                 False         False      False      False           False   \n",
       "361                 False         False      False      False           False   \n",
       "362                 False         False      False      False           False   \n",
       "363                 False         False      False      False           False   \n",
       "364                 False         False      False      False           False   \n",
       "365                 False         False      False      False           False   \n",
       "366                 False         False      False      False           False   \n",
       "367                 False         False      False      False           False   \n",
       "368                 False         False      False      False           False   \n",
       "369                 False         False      False      False           False   \n",
       "\n",
       "     Orientation  Glazing Area  Glazing Area Distribution  \n",
       "350        False         False                      False  \n",
       "351        False         False                      False  \n",
       "352        False         False                      False  \n",
       "353        False         False                      False  \n",
       "354        False         False                      False  \n",
       "355        False         False                      False  \n",
       "356        False         False                      False  \n",
       "357        False         False                      False  \n",
       "358        False         False                      False  \n",
       "359        False         False                      False  \n",
       "360        False         False                      False  \n",
       "361        False         False                      False  \n",
       "362        False         False                      False  \n",
       "363        False         False                      False  \n",
       "364        False         False                      False  \n",
       "365        False         False                      False  \n",
       "366        False         False                      False  \n",
       "367        False         False                      False  \n",
       "368        False         False                      False  \n",
       "369        False         False                      False  "
      ]
     },
     "execution_count": 35,
     "metadata": {},
     "output_type": "execute_result"
    }
   ],
   "source": [
    "((x_df < alt_sinir) | (x_df > ust_sinir))[350:370]"
   ]
  },
  {
   "cell_type": "code",
   "execution_count": 36,
   "id": "38d3adee",
   "metadata": {},
   "outputs": [
    {
     "data": {
      "text/html": [
       "<div>\n",
       "<style scoped>\n",
       "    .dataframe tbody tr th:only-of-type {\n",
       "        vertical-align: middle;\n",
       "    }\n",
       "\n",
       "    .dataframe tbody tr th {\n",
       "        vertical-align: top;\n",
       "    }\n",
       "\n",
       "    .dataframe thead th {\n",
       "        text-align: right;\n",
       "    }\n",
       "</style>\n",
       "<table border=\"1\" class=\"dataframe\">\n",
       "  <thead>\n",
       "    <tr style=\"text-align: right;\">\n",
       "      <th></th>\n",
       "      <th>Relative Compactness</th>\n",
       "      <th>Surface Area</th>\n",
       "      <th>Wall Area</th>\n",
       "      <th>Roof Area</th>\n",
       "      <th>Overall Height</th>\n",
       "      <th>Orientation</th>\n",
       "      <th>Glazing Area</th>\n",
       "      <th>Glazing Area Distribution</th>\n",
       "    </tr>\n",
       "  </thead>\n",
       "  <tbody>\n",
       "    <tr>\n",
       "      <th>200</th>\n",
       "      <td>NaN</td>\n",
       "      <td>NaN</td>\n",
       "      <td>NaN</td>\n",
       "      <td>NaN</td>\n",
       "      <td>NaN</td>\n",
       "      <td>NaN</td>\n",
       "      <td>NaN</td>\n",
       "      <td>NaN</td>\n",
       "    </tr>\n",
       "    <tr>\n",
       "      <th>201</th>\n",
       "      <td>NaN</td>\n",
       "      <td>NaN</td>\n",
       "      <td>NaN</td>\n",
       "      <td>NaN</td>\n",
       "      <td>NaN</td>\n",
       "      <td>NaN</td>\n",
       "      <td>NaN</td>\n",
       "      <td>NaN</td>\n",
       "    </tr>\n",
       "    <tr>\n",
       "      <th>202</th>\n",
       "      <td>NaN</td>\n",
       "      <td>NaN</td>\n",
       "      <td>NaN</td>\n",
       "      <td>NaN</td>\n",
       "      <td>NaN</td>\n",
       "      <td>NaN</td>\n",
       "      <td>NaN</td>\n",
       "      <td>NaN</td>\n",
       "    </tr>\n",
       "    <tr>\n",
       "      <th>203</th>\n",
       "      <td>NaN</td>\n",
       "      <td>NaN</td>\n",
       "      <td>NaN</td>\n",
       "      <td>NaN</td>\n",
       "      <td>NaN</td>\n",
       "      <td>NaN</td>\n",
       "      <td>NaN</td>\n",
       "      <td>NaN</td>\n",
       "    </tr>\n",
       "    <tr>\n",
       "      <th>204</th>\n",
       "      <td>NaN</td>\n",
       "      <td>NaN</td>\n",
       "      <td>NaN</td>\n",
       "      <td>NaN</td>\n",
       "      <td>NaN</td>\n",
       "      <td>NaN</td>\n",
       "      <td>NaN</td>\n",
       "      <td>NaN</td>\n",
       "    </tr>\n",
       "    <tr>\n",
       "      <th>205</th>\n",
       "      <td>NaN</td>\n",
       "      <td>NaN</td>\n",
       "      <td>NaN</td>\n",
       "      <td>NaN</td>\n",
       "      <td>NaN</td>\n",
       "      <td>NaN</td>\n",
       "      <td>NaN</td>\n",
       "      <td>NaN</td>\n",
       "    </tr>\n",
       "    <tr>\n",
       "      <th>206</th>\n",
       "      <td>NaN</td>\n",
       "      <td>NaN</td>\n",
       "      <td>NaN</td>\n",
       "      <td>NaN</td>\n",
       "      <td>NaN</td>\n",
       "      <td>NaN</td>\n",
       "      <td>NaN</td>\n",
       "      <td>NaN</td>\n",
       "    </tr>\n",
       "    <tr>\n",
       "      <th>207</th>\n",
       "      <td>NaN</td>\n",
       "      <td>NaN</td>\n",
       "      <td>NaN</td>\n",
       "      <td>NaN</td>\n",
       "      <td>NaN</td>\n",
       "      <td>NaN</td>\n",
       "      <td>NaN</td>\n",
       "      <td>NaN</td>\n",
       "    </tr>\n",
       "    <tr>\n",
       "      <th>208</th>\n",
       "      <td>NaN</td>\n",
       "      <td>NaN</td>\n",
       "      <td>NaN</td>\n",
       "      <td>NaN</td>\n",
       "      <td>NaN</td>\n",
       "      <td>NaN</td>\n",
       "      <td>NaN</td>\n",
       "      <td>NaN</td>\n",
       "    </tr>\n",
       "    <tr>\n",
       "      <th>209</th>\n",
       "      <td>NaN</td>\n",
       "      <td>NaN</td>\n",
       "      <td>NaN</td>\n",
       "      <td>NaN</td>\n",
       "      <td>NaN</td>\n",
       "      <td>NaN</td>\n",
       "      <td>NaN</td>\n",
       "      <td>NaN</td>\n",
       "    </tr>\n",
       "    <tr>\n",
       "      <th>210</th>\n",
       "      <td>NaN</td>\n",
       "      <td>NaN</td>\n",
       "      <td>NaN</td>\n",
       "      <td>NaN</td>\n",
       "      <td>NaN</td>\n",
       "      <td>NaN</td>\n",
       "      <td>NaN</td>\n",
       "      <td>NaN</td>\n",
       "    </tr>\n",
       "    <tr>\n",
       "      <th>211</th>\n",
       "      <td>NaN</td>\n",
       "      <td>NaN</td>\n",
       "      <td>NaN</td>\n",
       "      <td>NaN</td>\n",
       "      <td>NaN</td>\n",
       "      <td>NaN</td>\n",
       "      <td>NaN</td>\n",
       "      <td>NaN</td>\n",
       "    </tr>\n",
       "    <tr>\n",
       "      <th>212</th>\n",
       "      <td>NaN</td>\n",
       "      <td>NaN</td>\n",
       "      <td>NaN</td>\n",
       "      <td>NaN</td>\n",
       "      <td>NaN</td>\n",
       "      <td>NaN</td>\n",
       "      <td>NaN</td>\n",
       "      <td>NaN</td>\n",
       "    </tr>\n",
       "    <tr>\n",
       "      <th>213</th>\n",
       "      <td>NaN</td>\n",
       "      <td>NaN</td>\n",
       "      <td>NaN</td>\n",
       "      <td>NaN</td>\n",
       "      <td>NaN</td>\n",
       "      <td>NaN</td>\n",
       "      <td>NaN</td>\n",
       "      <td>NaN</td>\n",
       "    </tr>\n",
       "    <tr>\n",
       "      <th>214</th>\n",
       "      <td>NaN</td>\n",
       "      <td>NaN</td>\n",
       "      <td>NaN</td>\n",
       "      <td>NaN</td>\n",
       "      <td>NaN</td>\n",
       "      <td>NaN</td>\n",
       "      <td>NaN</td>\n",
       "      <td>NaN</td>\n",
       "    </tr>\n",
       "    <tr>\n",
       "      <th>215</th>\n",
       "      <td>NaN</td>\n",
       "      <td>NaN</td>\n",
       "      <td>NaN</td>\n",
       "      <td>NaN</td>\n",
       "      <td>NaN</td>\n",
       "      <td>NaN</td>\n",
       "      <td>NaN</td>\n",
       "      <td>NaN</td>\n",
       "    </tr>\n",
       "    <tr>\n",
       "      <th>216</th>\n",
       "      <td>NaN</td>\n",
       "      <td>NaN</td>\n",
       "      <td>NaN</td>\n",
       "      <td>NaN</td>\n",
       "      <td>NaN</td>\n",
       "      <td>NaN</td>\n",
       "      <td>NaN</td>\n",
       "      <td>NaN</td>\n",
       "    </tr>\n",
       "    <tr>\n",
       "      <th>217</th>\n",
       "      <td>NaN</td>\n",
       "      <td>NaN</td>\n",
       "      <td>NaN</td>\n",
       "      <td>NaN</td>\n",
       "      <td>NaN</td>\n",
       "      <td>NaN</td>\n",
       "      <td>NaN</td>\n",
       "      <td>NaN</td>\n",
       "    </tr>\n",
       "    <tr>\n",
       "      <th>218</th>\n",
       "      <td>NaN</td>\n",
       "      <td>NaN</td>\n",
       "      <td>NaN</td>\n",
       "      <td>NaN</td>\n",
       "      <td>NaN</td>\n",
       "      <td>NaN</td>\n",
       "      <td>NaN</td>\n",
       "      <td>NaN</td>\n",
       "    </tr>\n",
       "    <tr>\n",
       "      <th>219</th>\n",
       "      <td>NaN</td>\n",
       "      <td>NaN</td>\n",
       "      <td>NaN</td>\n",
       "      <td>NaN</td>\n",
       "      <td>NaN</td>\n",
       "      <td>NaN</td>\n",
       "      <td>NaN</td>\n",
       "      <td>NaN</td>\n",
       "    </tr>\n",
       "  </tbody>\n",
       "</table>\n",
       "</div>"
      ],
      "text/plain": [
       "     Relative Compactness  Surface Area  Wall Area  Roof Area  Overall Height  \\\n",
       "200                   NaN           NaN        NaN        NaN             NaN   \n",
       "201                   NaN           NaN        NaN        NaN             NaN   \n",
       "202                   NaN           NaN        NaN        NaN             NaN   \n",
       "203                   NaN           NaN        NaN        NaN             NaN   \n",
       "204                   NaN           NaN        NaN        NaN             NaN   \n",
       "205                   NaN           NaN        NaN        NaN             NaN   \n",
       "206                   NaN           NaN        NaN        NaN             NaN   \n",
       "207                   NaN           NaN        NaN        NaN             NaN   \n",
       "208                   NaN           NaN        NaN        NaN             NaN   \n",
       "209                   NaN           NaN        NaN        NaN             NaN   \n",
       "210                   NaN           NaN        NaN        NaN             NaN   \n",
       "211                   NaN           NaN        NaN        NaN             NaN   \n",
       "212                   NaN           NaN        NaN        NaN             NaN   \n",
       "213                   NaN           NaN        NaN        NaN             NaN   \n",
       "214                   NaN           NaN        NaN        NaN             NaN   \n",
       "215                   NaN           NaN        NaN        NaN             NaN   \n",
       "216                   NaN           NaN        NaN        NaN             NaN   \n",
       "217                   NaN           NaN        NaN        NaN             NaN   \n",
       "218                   NaN           NaN        NaN        NaN             NaN   \n",
       "219                   NaN           NaN        NaN        NaN             NaN   \n",
       "\n",
       "     Orientation  Glazing Area  Glazing Area Distribution  \n",
       "200          NaN           NaN                        NaN  \n",
       "201          NaN           NaN                        NaN  \n",
       "202          NaN           NaN                        NaN  \n",
       "203          NaN           NaN                        NaN  \n",
       "204          NaN           NaN                        NaN  \n",
       "205          NaN           NaN                        NaN  \n",
       "206          NaN           NaN                        NaN  \n",
       "207          NaN           NaN                        NaN  \n",
       "208          NaN           NaN                        NaN  \n",
       "209          NaN           NaN                        NaN  \n",
       "210          NaN           NaN                        NaN  \n",
       "211          NaN           NaN                        NaN  \n",
       "212          NaN           NaN                        NaN  \n",
       "213          NaN           NaN                        NaN  \n",
       "214          NaN           NaN                        NaN  \n",
       "215          NaN           NaN                        NaN  \n",
       "216          NaN           NaN                        NaN  \n",
       "217          NaN           NaN                        NaN  \n",
       "218          NaN           NaN                        NaN  \n",
       "219          NaN           NaN                        NaN  "
      ]
     },
     "execution_count": 36,
     "metadata": {},
     "output_type": "execute_result"
    }
   ],
   "source": [
    "aykiri_df = (x_df < alt_sinir) | (x_df > ust_sinir)\n",
    "x_df[aykiri_df][200:220]"
   ]
  },
  {
   "cell_type": "markdown",
   "id": "2743babe",
   "metadata": {},
   "source": [
    "#### Burada yukarıda söylediğim aykırı değerler ile alakalı yapacağım uygulamayı yaptım. Temel olarak şunları gerçekleştirdim; ilk olarak temel gayem aykırı değerleri saptamaktı. Bunun için 'quantile' değerlerini veri setimizden Q1 ve Q3 için hesaplıyoruz. Quantile değerlerini 0.25 ile 0.75 arasında alıyoruz. Ardından eşik değerlerin sınuçlarını buluyoruz ve bu değerler vasıtasıyla alt_sınır ve üst_sınır değerlerini formülize ederek elde ediyoruz. Son olarakta bu iki değeri sorgulama işlemine tabii tutarak değişken içinde aykırı değerleri saptıyoruz.."
   ]
  },
  {
   "cell_type": "markdown",
   "id": "bd55f93f",
   "metadata": {},
   "source": [
    "### Makine Öğrenmesi"
   ]
  },
  {
   "cell_type": "markdown",
   "id": "64e761bc",
   "metadata": {},
   "source": [
    "#### Şimdi burada makine öğrenmesi bazında temel işlemleri ele alıp bazı modelleri gözlemleyeceğiz..."
   ]
  },
  {
   "cell_type": "markdown",
   "id": "65137a42",
   "metadata": {},
   "source": [
    "### KNN Model - En Yakın Komşu Algoritması"
   ]
  },
  {
   "cell_type": "code",
   "execution_count": 37,
   "id": "84844f2c",
   "metadata": {},
   "outputs": [
    {
     "data": {
      "text/plain": [
       "2.267980937412731"
      ]
     },
     "execution_count": 37,
     "metadata": {},
     "output_type": "execute_result"
    }
   ],
   "source": [
    "from sklearn.model_selection import train_test_split, GridSearchCV\n",
    "from sklearn.tree import DecisionTreeClassifier, DecisionTreeRegressor\n",
    "from sklearn.neighbors import KNeighborsRegressor\n",
    "from sklearn.ensemble import BaggingRegressor\n",
    "from sklearn.metrics import mean_squared_error, r2_score\n",
    "\n",
    "X_train, X_test, y_train, y_test = train_test_split(x_df, y_df, test_size = 0.30, random_state = 42)\n",
    "#Model ve tahmin yapımız...\n",
    "knn_model = KNeighborsRegressor().fit(X_train, y_train)\n",
    "y_pred = knn_model.predict(X_test)\n",
    "np.sqrt(mean_squared_error(y_test, y_pred))"
   ]
  },
  {
   "cell_type": "markdown",
   "id": "060aa460",
   "metadata": {},
   "source": [
    "#### İlk olarak diğer makine modellerinde de kullanacağımız bazı kütüphaneleri projeye dahil ettik. Bunların içinden 'train-test-split' ile modelmizi test ve train verisi olmak üzere ikiye ayırıyoruz. Ardından 'KNN' yani 'en yakın komşu algoritması' ile knn modelimizi oluşturuyoruz. Pek tabii train yapılarını 'fit' işlemi ile işliyoruz. Tahmin yapısını oluşturup, son olarak ilkel modelimiz ile tahmin yapımızı karşılaştırarak sonucu elde ediyoruz.  "
   ]
  },
  {
   "cell_type": "code",
   "execution_count": 38,
   "id": "0dea0b60",
   "metadata": {},
   "outputs": [
    {
     "name": "stdout",
     "output_type": "stream",
     "text": [
      "k = 1 değeri için RMSE değeri: [0.0]\n",
      "k = 2 değeri için RMSE değeri: [0.0, 1.5299240877091582]\n",
      "k = 3 değeri için RMSE değeri: [0.0, 1.5299240877091582, 1.6561109367188038]\n",
      "k = 4 değeri için RMSE değeri: [0.0, 1.5299240877091582, 1.6561109367188038, 1.6100093760209082]\n",
      "k = 5 değeri için RMSE değeri: [0.0, 1.5299240877091582, 1.6561109367188038, 1.6100093760209082, 1.6968857859553426]\n",
      "k = 6 değeri için RMSE değeri: [0.0, 1.5299240877091582, 1.6561109367188038, 1.6100093760209082, 1.6968857859553426, 1.878729255027848]\n",
      "k = 7 değeri için RMSE değeri: [0.0, 1.5299240877091582, 1.6561109367188038, 1.6100093760209082, 1.6968857859553426, 1.878729255027848, 2.0734782792666304]\n",
      "k = 8 değeri için RMSE değeri: [0.0, 1.5299240877091582, 1.6561109367188038, 1.6100093760209082, 1.6968857859553426, 1.878729255027848, 2.0734782792666304, 2.188521094817327]\n",
      "k = 9 değeri için RMSE değeri: [0.0, 1.5299240877091582, 1.6561109367188038, 1.6100093760209082, 1.6968857859553426, 1.878729255027848, 2.0734782792666304, 2.188521094817327, 2.304287672738901]\n",
      "k = 10 değeri için RMSE değeri: [0.0, 1.5299240877091582, 1.6561109367188038, 1.6100093760209082, 1.6968857859553426, 1.878729255027848, 2.0734782792666304, 2.188521094817327, 2.304287672738901, 2.3872031407476673]\n"
     ]
    }
   ],
   "source": [
    "RMSE = []\n",
    "for k in range(10):\n",
    "    k+=1\n",
    "    knn_model = KNeighborsRegressor(n_neighbors=k).fit(X_train, y_train)\n",
    "    y_pred = knn_model.predict(X_train)\n",
    "    rmse = np.sqrt(mean_squared_error(y_train, y_pred))\n",
    "    RMSE.append(rmse)\n",
    "    print(f\"k = {k} değeri için RMSE değeri: {RMSE}\")"
   ]
  },
  {
   "cell_type": "markdown",
   "id": "54ca0ef4",
   "metadata": {},
   "source": [
    "#### Böylelikle eğitim hatalarını adım adım gözlemlemiş oluyoruz."
   ]
  },
  {
   "cell_type": "code",
   "execution_count": 39,
   "id": "5e2c7ab5",
   "metadata": {},
   "outputs": [
    {
     "name": "stdout",
     "output_type": "stream",
     "text": [
      "Fitting 10 folds for each of 29 candidates, totalling 290 fits\n",
      "En iyi parametreler: {'n_neighbors': 3}\n"
     ]
    }
   ],
   "source": [
    "# Model Tunning yapısı..\n",
    "# ?knn_model burada 'help' metoduyla parametreleri gözlemliyoruz...\n",
    "\n",
    "knn_params = {'n_neighbors': np.arange(1,30,1)}\n",
    "knn = KNeighborsRegressor()\n",
    "knn_cv_model = GridSearchCV(knn, knn_params, cv=10, n_jobs = -1, verbose = 2)\n",
    "knn_cv_model.fit(X_train, y_train)\n",
    "print(f\"En iyi parametreler: {str(knn_cv_model.best_params_)}\")"
   ]
  },
  {
   "cell_type": "markdown",
   "id": "c3d7fb9b",
   "metadata": {},
   "source": [
    "#### Model tunning yapısında final sonuca ulaşabilmek için best parametreleri elde etmemiz lazım. Bunun için '?' işareti ile modelin parametrelerini gözlemliyoruz, Arından test etmek istediğimiz parametreleri alıp rastgele değerler vererek modelin bu değerleri test etmesini olanaklaştırıyoruz. Son olarak test edilen bu değerlerden best olanı ekrana döküyorum..."
   ]
  },
  {
   "cell_type": "code",
   "execution_count": 40,
   "id": "80ffc63b",
   "metadata": {},
   "outputs": [
    {
     "data": {
      "text/plain": [
       "2.097107842604024"
      ]
     },
     "execution_count": 40,
     "metadata": {},
     "output_type": "execute_result"
    }
   ],
   "source": [
    "knn_tuned = KNeighborsRegressor(n_neighbors=3).fit(X_train, y_train)\n",
    "y_pred = knn_tuned.predict(X_test)\n",
    "np.sqrt(mean_squared_error(y_test, y_pred))"
   ]
  },
  {
   "cell_type": "markdown",
   "id": "761882ab",
   "metadata": {},
   "source": [
    "#### Ve böylelikle final modelimize tune edilmiş final modelimizin sonucuna ulaşmış oluyoruz. Knn algoritması: 2.097107842604024 değeri sağladı. Şimdi hızlıca diğer modelleri gözlemleyeceğiz..."
   ]
  },
  {
   "cell_type": "markdown",
   "id": "eba3a7d3",
   "metadata": {},
   "source": [
    "### Destek Vektör Regresyonu - SVR Modeli"
   ]
  },
  {
   "cell_type": "markdown",
   "id": "c4274df1",
   "metadata": {},
   "source": [
    " #### Model ve tahmin bölümü:"
   ]
  },
  {
   "cell_type": "code",
   "execution_count": 44,
   "id": "d9f1064d",
   "metadata": {},
   "outputs": [
    {
     "data": {
      "text/plain": [
       "5.663382178873356"
      ]
     },
     "execution_count": 44,
     "metadata": {},
     "output_type": "execute_result"
    }
   ],
   "source": [
    "y_df_y = df[\"Heating Load\"]\n",
    "X_train, X_test, y_train, y_test = train_test_split(x_df, y_df_y, test_size = 0.30, random_state = 42)\n",
    "from sklearn.svm import LinearSVR, SVR\n",
    "svr_rbf = SVR(kernel=\"rbf\").fit(X_train, y_train)\n",
    "y_pred = svr_rbf.predict(X_test)\n",
    "np.sqrt(mean_squared_error(y_test, y_pred))"
   ]
  },
  {
   "cell_type": "markdown",
   "id": "259d372e",
   "metadata": {},
   "source": [
    "#### SVR modeli y bağımsız yapısı için iki tane değişken alınmasını kabul etmiyor dolayısıyla onun için değişken yapısını bire indirdim ve sadece 'Heating Load' için tahmin gerçekleştirecek..."
   ]
  },
  {
   "cell_type": "markdown",
   "id": "1a6a5ba9",
   "metadata": {},
   "source": [
    "#### Model Tunning bölümü;"
   ]
  },
  {
   "cell_type": "code",
   "execution_count": 50,
   "id": "cc8ea626",
   "metadata": {},
   "outputs": [
    {
     "name": "stdout",
     "output_type": "stream",
     "text": [
      "Fitting 10 folds for each of 8 candidates, totalling 80 fits\n",
      "En iyi parametrelerimiz: {'C': 50}\n"
     ]
    }
   ],
   "source": [
    "svr = SVR(kernel = \"rbf\").fit(X_train, y_train)\n",
    "svr_params = {\"C\": [0.1, 0.4,5,10,20,30,40,50]}\n",
    "svr_cv_model = GridSearchCV(svr, svr_params, cv= 10, n_jobs=-1, verbose=2).fit(X_train, y_train)\n",
    "print(f\"En iyi parametrelerimiz: {str(svr_cv_model.best_params_)}\")"
   ]
  },
  {
   "cell_type": "code",
   "execution_count": 51,
   "id": "4063fd97",
   "metadata": {},
   "outputs": [
    {
     "data": {
      "text/plain": [
       "4.189014622030005"
      ]
     },
     "execution_count": 51,
     "metadata": {},
     "output_type": "execute_result"
    }
   ],
   "source": [
    "svr_tuned = SVR(kernel = \"rbf\", C=50).fit(X_train, y_train)\n",
    "y_pred = svr_tuned.predict(X_test)\n",
    "np.sqrt(mean_squared_error(y_test, y_pred))"
   ]
  },
  {
   "cell_type": "markdown",
   "id": "4bcbf4ed",
   "metadata": {},
   "source": [
    "### Yapay Sinir Ağları - YSA Modeli"
   ]
  },
  {
   "cell_type": "markdown",
   "id": "ba6aef75",
   "metadata": {},
   "source": [
    "#### Model ve tahmin bölümü:"
   ]
  },
  {
   "cell_type": "code",
   "execution_count": 53,
   "id": "b75e0c74",
   "metadata": {
    "collapsed": true
   },
   "outputs": [
    {
     "name": "stderr",
     "output_type": "stream",
     "text": [
      "C:\\Users\\husey\\anaconda3\\lib\\site-packages\\sklearn\\neural_network\\_multilayer_perceptron.py:692: ConvergenceWarning: Stochastic Optimizer: Maximum iterations (200) reached and the optimization hasn't converged yet.\n",
      "  warnings.warn(\n"
     ]
    }
   ],
   "source": [
    "from sklearn.preprocessing import StandardScaler\n",
    "from sklearn.neural_network import MLPRegressor\n",
    "X_train, X_test, y_train, y_test = train_test_split(x_df, y_df, test_size = 0.30, random_state = 42)\n",
    "scaler = StandardScaler()\n",
    "scaler.fit(X_train)\n",
    "X_train_scaled = scaler.transform(X_train)\n",
    "X_test_scaled = scaler.transform(X_test)\n",
    "mlp_model = MLPRegressor().fit(X_train_scaled, y_train)"
   ]
  },
  {
   "cell_type": "code",
   "execution_count": 54,
   "id": "804e4bf9",
   "metadata": {},
   "outputs": [
    {
     "data": {
      "text/plain": [
       "4.936355288096421"
      ]
     },
     "execution_count": 54,
     "metadata": {},
     "output_type": "execute_result"
    }
   ],
   "source": [
    "y_pred = mlp_model.predict(X_test_scaled)\n",
    "np.sqrt(mean_squared_error(y_test, y_pred))"
   ]
  },
  {
   "cell_type": "markdown",
   "id": "177d561f",
   "metadata": {},
   "source": [
    "#### Model Tunning  bölümü:"
   ]
  },
  {
   "cell_type": "code",
   "execution_count": 58,
   "id": "6bb3a0e6",
   "metadata": {},
   "outputs": [
    {
     "name": "stdout",
     "output_type": "stream",
     "text": [
      "Fitting 10 folds for each of 24 candidates, totalling 240 fits\n",
      "En iyi parametrelerimiz: {'activation': 'relu', 'alpha': 0.01, 'hidden_layer_sizes': (300, 200, 150)}\n"
     ]
    }
   ],
   "source": [
    "# ?mlp_model\n",
    "from warnings import filterwarnings\n",
    "filterwarnings('ignore')\n",
    "mlp = MLPRegressor().fit(X_train_scaled, y_train)\n",
    "mlp_params = {\"alpha\": [0.1, 0.01, 0.02, 0.005],\n",
    "             \"hidden_layer_sizes\": [(20,20), (100, 50, 150), (300,200,150)],\n",
    "             \"activation\": ['relu', 'logistic']}\n",
    "mlp_cv_model = GridSearchCV(mlp, mlp_params, cv=10, n_jobs=-1, verbose= 2).fit(X_train_scaled, y_train)\n",
    "print(f\"En iyi parametrelerimiz: {str(mlp_cv_model.best_params_)}\")\n"
   ]
  },
  {
   "cell_type": "code",
   "execution_count": 60,
   "id": "0037a734",
   "metadata": {},
   "outputs": [
    {
     "data": {
      "text/plain": [
       "1.947357270800273"
      ]
     },
     "execution_count": 60,
     "metadata": {},
     "output_type": "execute_result"
    }
   ],
   "source": [
    "mlp_tuned = MLPRegressor(alpha=0.01, hidden_layer_sizes = (300,200,150), activation = 'relu').fit(X_train_scaled, y_train)\n",
    "y_pred = mlp_tuned.predict(X_test_scaled)\n",
    "np.sqrt(mean_squared_error(y_test, y_pred))"
   ]
  },
  {
   "cell_type": "markdown",
   "id": "f18452a8",
   "metadata": {},
   "source": [
    "### Random Forests - RF Modeli"
   ]
  },
  {
   "cell_type": "markdown",
   "id": "faf95f60",
   "metadata": {},
   "source": [
    "#### Model ve tahmin bölümü:"
   ]
  },
  {
   "cell_type": "code",
   "execution_count": 61,
   "id": "41a32910",
   "metadata": {},
   "outputs": [
    {
     "data": {
      "text/plain": [
       "RandomForestRegressor(random_state=42)"
      ]
     },
     "execution_count": 61,
     "metadata": {},
     "output_type": "execute_result"
    }
   ],
   "source": [
    "from sklearn.ensemble import RandomForestRegressor\n",
    "rf_model = RandomForestRegressor(random_state=42)\n",
    "rf_model.fit(X_train, y_train)"
   ]
  },
  {
   "cell_type": "code",
   "execution_count": 62,
   "id": "7be0a700",
   "metadata": {},
   "outputs": [
    {
     "data": {
      "text/plain": [
       "1.3077659939015045"
      ]
     },
     "execution_count": 62,
     "metadata": {},
     "output_type": "execute_result"
    }
   ],
   "source": [
    "y_pred = rf_model.predict(X_test)\n",
    "np.sqrt(mean_squared_error(y_test, y_pred))"
   ]
  },
  {
   "cell_type": "markdown",
   "id": "0c40fcd2",
   "metadata": {},
   "source": [
    "#### Model Tunning böümü:"
   ]
  },
  {
   "cell_type": "code",
   "execution_count": 64,
   "id": "32d5d51c",
   "metadata": {},
   "outputs": [
    {
     "name": "stdout",
     "output_type": "stream",
     "text": [
      "Fitting 10 folds for each of 180 candidates, totalling 1800 fits\n",
      "En iyi parametreler: {'max_depth': 9, 'max_features': 3, 'n_estimators': 500}\n"
     ]
    }
   ],
   "source": [
    "# ?rf_model\n",
    "\n",
    "rf_params = {'max_depth': list(range(1,10)),\n",
    "             'max_features': [3,5,10,15],\n",
    "             'n_estimators': [100,200,500,1000,2000]}\n",
    "rf_model_cv = GridSearchCV(rf_model, rf_params, cv=10, n_jobs=-1, verbose=2).fit(X_train, y_train)\n",
    "print(f\"En iyi parametreler: {str(rf_model_cv.best_params_)}\")"
   ]
  },
  {
   "cell_type": "code",
   "execution_count": 65,
   "id": "7d7f4539",
   "metadata": {},
   "outputs": [
    {
     "data": {
      "text/plain": [
       "1.2181076083248608"
      ]
     },
     "execution_count": 65,
     "metadata": {},
     "output_type": "execute_result"
    }
   ],
   "source": [
    "rf_tuned = RandomForestRegressor(max_depth=9, max_features=3, n_estimators = 500)\n",
    "rf_tuned.fit(X_train, y_train)\n",
    "y_pred = rf_tuned.predict(X_test)\n",
    "np.sqrt(mean_squared_error(y_test, y_pred))"
   ]
  },
  {
   "cell_type": "code",
   "execution_count": 69,
   "id": "fbf2e2e0",
   "metadata": {},
   "outputs": [
    {
     "name": "stdout",
     "output_type": "stream",
     "text": [
      "--------------------\n",
      "KNeighborsRegressor;\n",
      "Mean_squared: 209.7108%\n",
      "--------------------\n",
      "MLPRegressor;\n",
      "Mean_squared: 230187.7155%\n",
      "--------------------\n",
      "RandomForestRegressor;\n",
      "Mean_squared: 121.8108%\n"
     ]
    }
   ],
   "source": [
    "modeller = [knn_tuned, mlp_tuned, rf_tuned]\n",
    "for model in modeller:\n",
    "    isimler = model.__class__.__name__\n",
    "    y_pred = model.predict(X_test)\n",
    "    dogruluk = np.sqrt(mean_squared_error(y_test, y_pred))\n",
    "    print(\"-\" * 20)\n",
    "    print(f\"{isimler};\")\n",
    "    print(\"Mean_squared: {:.4%}\".format(dogruluk))"
   ]
  },
  {
   "cell_type": "markdown",
   "id": "c8bdb95d",
   "metadata": {},
   "source": [
    "#### Burada tüm modellerin karşılaştırılmasını gerçekleştirdim. Değerlere bakınca bu veri seti verdiğimiz parametre değerlerine bağlı kalarak yapay sinir ağlarının en iyi sonuca ulaştığını söyleyebiliriz..."
   ]
  },
  {
   "cell_type": "code",
   "execution_count": 72,
   "id": "acbdefab",
   "metadata": {},
   "outputs": [
    {
     "data": {
      "image/png": "[encoded data removed]",
      "text/plain": [
       "<Figure size 432x288 with 1 Axes>"
      ]
     },
     "metadata": {
      "needs_background": "light"
     },
     "output_type": "display_data"
    }
   ],
   "source": [
    "importance = pd.DataFrame({\"Importance\": rf_tuned.feature_importances_*100}, index=X_train.columns)\n",
    "\n",
    "#Bu önem sırasını oluşturduk şimdi grafik ile görselleştirelim.\n",
    "\n",
    "grafik = importance.sort_values(by=\"Importance\", axis=0, ascending=True).plot(kind=\"barh\", color=\"r\")\n",
    "plt.xlabel(\"Değişken önem düzeyleri\")\n",
    "plt.show()"
   ]
  },
  {
   "cell_type": "markdown",
   "id": "9c4f9b21",
   "metadata": {},
   "source": [
    "#### Buraya ek olarak birde random forests için değişken önem düzeyleri sıralamasını bırakıyorum.Yani bu değişkenler üzerine yoğunlaşılabilir ve sonuç daha iyi bir dayanak oluşturulur."
   ]
  },
  {
   "cell_type": "code",
   "execution_count": null,
   "id": "7b8bb721",
   "metadata": {},
   "outputs": [],
   "source": []
  }
 ],
 "metadata": {
  "kernelspec": {
   "display_name": "Python 3 (ipykernel)",
   "language": "python",
   "name": "python3"
  },
  "language_info": {
   "codemirror_mode": {
    "name": "ipython",
    "version": 3
   },
   "file_extension": ".py",
   "mimetype": "text/x-python",
   "name": "python",
   "nbconvert_exporter": "python",
   "pygments_lexer": "ipython3",
   "version": "3.9.12"
  }
 },
 "nbformat": 4,
 "nbformat_minor": 5
}
